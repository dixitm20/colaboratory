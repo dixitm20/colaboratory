{
  "nbformat": 4,
  "nbformat_minor": 0,
  "metadata": {
    "colab": {
      "name": "Techgig_Code_Gladiators 2019 - Neighbours and New Year Party.ipynb",
      "version": "0.3.2",
      "provenance": [],
      "include_colab_link": true
    },
    "kernelspec": {
      "name": "python3",
      "display_name": "Python 3"
    }
  },
  "cells": [
    {
      "cell_type": "markdown",
      "metadata": {
        "id": "view-in-github",
        "colab_type": "text"
      },
      "source": [
        "<a href=\"https://colab.research.google.com/github/dixitm20/colaboratory/blob/master/Techgig_Code_Gladiators_2019_Neighbours_and_New_Year_Party.ipynb\" target=\"_parent\"><img src=\"https://colab.research.google.com/assets/colab-badge.svg\" alt=\"Open In Colab\"/></a>"
      ]
    },
    {
      "metadata": {
        "id": "75Bwmz0-dBFE",
        "colab_type": "code",
        "colab": {}
      },
      "cell_type": "code",
      "source": [
        ""
      ],
      "execution_count": 0,
      "outputs": []
    },
    {
      "metadata": {
        "id": "Vc3uw_o5dF0z",
        "colab_type": "code",
        "colab": {
          "base_uri": "https://localhost:8080/",
          "height": 70
        },
        "outputId": "db92e6e6-0c54-4ed4-bc5b-e14d886cd74c"
      },
      "cell_type": "code",
      "source": [
        "# ''' Read input from STDIN. Print your output to STDOUT '''\n",
        "    #Use input() to read input from STDIN and use print to write your output to STDOUT\n",
        "\n",
        "def main():\n",
        "\n",
        "    # Write code here \n",
        "    NumOfTestCases = int(input())\n",
        "\n",
        "    for ctr in range(NumOfTestCases):\n",
        "        numOfHousesInput=input()\n",
        "        #print(numOfHousesInput)\n",
        "        numOfHouses=int(numOfHousesInput.strip())\n",
        "\n",
        "        ticketTokenNumbers=input()\n",
        "        #print(ticketTokenNumbers.strip())\n",
        "        ticketTokenNumbersList=[int(tokenNum) for tokenNum in ticketTokenNumbers.strip().split(' ')]\n",
        "        \n",
        "                           \n",
        "main()"
      ],
      "execution_count": 14,
      "outputs": [
        {
          "output_type": "stream",
          "text": [
            "1\n",
            "1\n",
            "1\n"
          ],
          "name": "stdout"
        }
      ]
    },
    {
      "metadata": {
        "id": "Nv4mwwkEd8pk",
        "colab_type": "code",
        "colab": {}
      },
      "cell_type": "code",
      "source": [
        "import random\n",
        "inputList=[]\n",
        "for x in range(100):\n",
        "    inputList.append(random.randint(-10,10))\n",
        "inputList\n"
      ],
      "execution_count": 0,
      "outputs": []
    },
    {
      "metadata": {
        "id": "YprDUxJFd7o3",
        "colab_type": "code",
        "colab": {}
      },
      "cell_type": "code",
      "source": [
        "numOfElem=10\n",
        "treeDict={}\n",
        "for ctr in range(numOfElem):\n",
        "    # print('{}, {}, {}, {}'.format(ctr,ctr+2,ctr+3,numOfElem))\n",
        "    if (ctr+2) < numOfElem:\n",
        "        if (ctr+3) < numOfElem:\n",
        "            treeDict[ctr]=[ctr+2,ctr+3]\n",
        "        else:\n",
        "            treeDict[ctr]=[ctr+2,-1]\n",
        "        # print(treeDict[ctr])"
      ],
      "execution_count": 0,
      "outputs": []
    },
    {
      "metadata": {
        "id": "8MFWQVs4kHmf",
        "colab_type": "code",
        "colab": {
          "base_uri": "https://localhost:8080/",
          "height": 158
        },
        "outputId": "8d267a5b-2784-4290-d984-4e2e5679327e"
      },
      "cell_type": "code",
      "source": [
        "treeDict"
      ],
      "execution_count": 47,
      "outputs": [
        {
          "output_type": "execute_result",
          "data": {
            "text/plain": [
              "{0: [2, 3],\n",
              " 1: [3, 4],\n",
              " 2: [4, 5],\n",
              " 3: [5, 6],\n",
              " 4: [6, 7],\n",
              " 5: [7, 8],\n",
              " 6: [8, 9],\n",
              " 7: [9, -1]}"
            ]
          },
          "metadata": {
            "tags": []
          },
          "execution_count": 47
        }
      ]
    },
    {
      "metadata": {
        "id": "u0BvU2AQkQvs",
        "colab_type": "code",
        "colab": {
          "base_uri": "https://localhost:8080/",
          "height": 87
        },
        "outputId": "9532bc1b-7776-4503-c098-0d028ea72ff0"
      },
      "cell_type": "code",
      "source": [
        "def gg(t,k):\n",
        "  if k not in t:\n",
        "    print('{} NF'.format(k))\n",
        "    return [k]\n",
        "  else:\n",
        "    print('{},{},{}'.format(k,t[k][0],t[k][1]))\n",
        "    if t[k][1] == -1:\n",
        "      return [k,[gg(t,t[k][0])]]\n",
        "    else:\n",
        "      return [k,[gg(t,t[k][0]),gg(t,t[k][1])]]\n",
        "    \n",
        "b=gg(treeDict,5)\n",
        "    "
      ],
      "execution_count": 71,
      "outputs": [
        {
          "output_type": "stream",
          "text": [
            "5,7,8\n",
            "7,9,-1\n",
            "9 NF\n",
            "8 NF\n"
          ],
          "name": "stdout"
        }
      ]
    },
    {
      "metadata": {
        "id": "FTKFtAJent0F",
        "colab_type": "code",
        "colab": {
          "base_uri": "https://localhost:8080/",
          "height": 34
        },
        "outputId": "b2de58d2-1ad0-48f3-8d2c-cf13ee0cdbe6"
      },
      "cell_type": "code",
      "source": [
        "b"
      ],
      "execution_count": 72,
      "outputs": [
        {
          "output_type": "execute_result",
          "data": {
            "text/plain": [
              "[5, [[7, [[9]]], [8]]]"
            ]
          },
          "metadata": {
            "tags": []
          },
          "execution_count": 72
        }
      ]
    },
    {
      "metadata": {
        "id": "4C25xvRCeD1W",
        "colab_type": "code",
        "colab": {}
      },
      "cell_type": "code",
      "source": [
        "def paths(orig,tree, cur=()):\n",
        "    if cur:\n",
        "        if cur[0] not in range(2):\n",
        "            return\n",
        "            \n",
        "    if not tree:\n",
        "        yield cur\n",
        "        \n",
        "    else:\n",
        "        for n, s in tree.items():\n",
        "            if n in orig:\n",
        "                if orig[n][1] == -1:\n",
        "                    for path in paths(orig,{orig[n][0]:{}}, cur+(n,)):\n",
        "                        yield path\n",
        "                else:\n",
        "                    for path in paths(orig,{orig[n][0]:{},orig[n][1]:{}}, cur+(n,)):\n",
        "                        yield path\n",
        "            else:\n",
        "                for path in paths(orig,{}, cur+(n,)):\n",
        "                    yield path"
      ],
      "execution_count": 0,
      "outputs": []
    },
    {
      "metadata": {
        "id": "B-t_09mUeEWw",
        "colab_type": "code",
        "colab": {}
      },
      "cell_type": "code",
      "source": [
        "\n",
        "def wpaths(wlst,orig,tree, cur=()):\n",
        "    if cur:\n",
        "        if cur[0] not in range(2):\n",
        "            return\n",
        "            \n",
        "    if not tree:\n",
        "        yield cur\n",
        "        \n",
        "    else:\n",
        "        for n, s in tree.items():\n",
        "            if n in orig:\n",
        "                if orig[n][1] == -1:\n",
        "                    for path in wpaths(wlst,orig,{orig[n][0]:{}}, cur+(n,)):\n",
        "                        yield path\n",
        "                else:\n",
        "                    if wlst[orig[n][0]] < 0 or wlst[orig[n][1]] < 0 or wlst[orig[n][0]]==wlst[orig[n][1]]:\n",
        "                        for path in wpaths(wlst,orig,{orig[n][0]:{},orig[n][1]:{}}, cur+(n,)):\n",
        "                            yield path\n",
        "                    else:\n",
        "                        if wlst[orig[n][0]] < wlst[orig[n][1]]:\n",
        "                            for path in wpaths(wlst,orig,{orig[n][1]:{}}, cur+(n,)):\n",
        "                                yield path\n",
        "                        else:\n",
        "                            for path in wpaths(wlst,orig,{orig[n][0]:{}}, cur+(n,)):\n",
        "                                yield path\n",
        "            else:\n",
        "                for path in wpaths(wlst,orig,{}, cur+(n,)):\n",
        "                    yield path\n",
        "\n"
      ],
      "execution_count": 0,
      "outputs": []
    },
    {
      "metadata": {
        "id": "MtfytTbGeM45",
        "colab_type": "code",
        "colab": {}
      },
      "cell_type": "code",
      "source": [
        "a=list(wpaths(inputList,treeDict,treeDict))"
      ],
      "execution_count": 0,
      "outputs": []
    },
    {
      "metadata": {
        "id": "XIqr5aP-iY99",
        "colab_type": "code",
        "colab": {}
      },
      "cell_type": "code",
      "source": [
        ""
      ],
      "execution_count": 0,
      "outputs": []
    }
  ]
}