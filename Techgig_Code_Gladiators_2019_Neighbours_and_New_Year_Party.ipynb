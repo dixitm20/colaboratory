{
  "nbformat": 4,
  "nbformat_minor": 0,
  "metadata": {
    "colab": {
      "name": "Techgig_Code_Gladiators 2019 - Neighbours and New Year Party.ipynb",
      "version": "0.3.2",
      "provenance": [],
      "collapsed_sections": [],
      "include_colab_link": true
    },
    "kernelspec": {
      "name": "python3",
      "display_name": "Python 3"
    }
  },
  "cells": [
    {
      "cell_type": "markdown",
      "metadata": {
        "id": "view-in-github",
        "colab_type": "text"
      },
      "source": [
        "<a href=\"https://colab.research.google.com/github/dixitm20/colaboratory/blob/master/Techgig_Code_Gladiators_2019_Neighbours_and_New_Year_Party.ipynb\" target=\"_parent\"><img src=\"https://colab.research.google.com/assets/colab-badge.svg\" alt=\"Open In Colab\"/></a>"
      ]
    },
    {
      "metadata": {
        "id": "75Bwmz0-dBFE",
        "colab_type": "code",
        "colab": {}
      },
      "cell_type": "code",
      "source": [
        ""
      ],
      "execution_count": 0,
      "outputs": []
    },
    {
      "metadata": {
        "id": "Vc3uw_o5dF0z",
        "colab_type": "code",
        "colab": {
          "base_uri": "https://localhost:8080/",
          "height": 70
        },
        "outputId": "db92e6e6-0c54-4ed4-bc5b-e14d886cd74c"
      },
      "cell_type": "code",
      "source": [
        "# ''' Read input from STDIN. Print your output to STDOUT '''\n",
        "    #Use input() to read input from STDIN and use print to write your output to STDOUT\n",
        "\n",
        "def main():\n",
        "\n",
        "    # Write code here \n",
        "    NumOfTestCases = int(input())\n",
        "\n",
        "    for ctr in range(NumOfTestCases):\n",
        "        numOfHousesInput=input()\n",
        "        #print(numOfHousesInput)\n",
        "        numOfHouses=int(numOfHousesInput.strip())\n",
        "\n",
        "        ticketTokenNumbers=input()\n",
        "        #print(ticketTokenNumbers.strip())\n",
        "        ticketTokenNumbersList=[int(tokenNum) for tokenNum in ticketTokenNumbers.strip().split(' ')]\n",
        "        \n",
        "                           \n",
        "main()"
      ],
      "execution_count": 14,
      "outputs": [
        {
          "output_type": "stream",
          "text": [
            "1\n",
            "1\n",
            "1\n"
          ],
          "name": "stdout"
        }
      ]
    },
    {
      "metadata": {
        "id": "Nv4mwwkEd8pk",
        "colab_type": "code",
        "colab": {}
      },
      "cell_type": "code",
      "source": [
        "import random\n",
        "inputList=[]\n",
        "for x in range(100):\n",
        "    inputList.append(random.randint(-10,10))\n",
        "inputList\n"
      ],
      "execution_count": 0,
      "outputs": []
    },
    {
      "metadata": {
        "id": "YprDUxJFd7o3",
        "colab_type": "code",
        "colab": {}
      },
      "cell_type": "code",
      "source": [
        "numOfElem=100\n",
        "treeDict={}\n",
        "for ctr in range(numOfElem):\n",
        "    # print('{}, {}, {}, {}'.format(ctr,ctr+2,ctr+3,numOfElem))\n",
        "    if (ctr+2) < numOfElem:\n",
        "        if (ctr+3) < numOfElem:\n",
        "            treeDict[ctr]=[ctr+2,ctr+3]\n",
        "        else:\n",
        "            treeDict[ctr]=[ctr+2,-1]\n",
        "        # print(treeDict[ctr])"
      ],
      "execution_count": 0,
      "outputs": []
    },
    {
      "metadata": {
        "id": "8MFWQVs4kHmf",
        "colab_type": "code",
        "colab": {
          "base_uri": "https://localhost:8080/",
          "height": 1742
        },
        "outputId": "37129de2-721d-4b9e-fc2e-8f9bf3d4b122"
      },
      "cell_type": "code",
      "source": [
        "treeDict"
      ],
      "execution_count": 5,
      "outputs": [
        {
          "output_type": "execute_result",
          "data": {
            "text/plain": [
              "{0: [2, 3],\n",
              " 1: [3, 4],\n",
              " 2: [4, 5],\n",
              " 3: [5, 6],\n",
              " 4: [6, 7],\n",
              " 5: [7, 8],\n",
              " 6: [8, 9],\n",
              " 7: [9, 10],\n",
              " 8: [10, 11],\n",
              " 9: [11, 12],\n",
              " 10: [12, 13],\n",
              " 11: [13, 14],\n",
              " 12: [14, 15],\n",
              " 13: [15, 16],\n",
              " 14: [16, 17],\n",
              " 15: [17, 18],\n",
              " 16: [18, 19],\n",
              " 17: [19, 20],\n",
              " 18: [20, 21],\n",
              " 19: [21, 22],\n",
              " 20: [22, 23],\n",
              " 21: [23, 24],\n",
              " 22: [24, 25],\n",
              " 23: [25, 26],\n",
              " 24: [26, 27],\n",
              " 25: [27, 28],\n",
              " 26: [28, 29],\n",
              " 27: [29, 30],\n",
              " 28: [30, 31],\n",
              " 29: [31, 32],\n",
              " 30: [32, 33],\n",
              " 31: [33, 34],\n",
              " 32: [34, 35],\n",
              " 33: [35, 36],\n",
              " 34: [36, 37],\n",
              " 35: [37, 38],\n",
              " 36: [38, 39],\n",
              " 37: [39, 40],\n",
              " 38: [40, 41],\n",
              " 39: [41, 42],\n",
              " 40: [42, 43],\n",
              " 41: [43, 44],\n",
              " 42: [44, 45],\n",
              " 43: [45, 46],\n",
              " 44: [46, 47],\n",
              " 45: [47, 48],\n",
              " 46: [48, 49],\n",
              " 47: [49, 50],\n",
              " 48: [50, 51],\n",
              " 49: [51, 52],\n",
              " 50: [52, 53],\n",
              " 51: [53, 54],\n",
              " 52: [54, 55],\n",
              " 53: [55, 56],\n",
              " 54: [56, 57],\n",
              " 55: [57, 58],\n",
              " 56: [58, 59],\n",
              " 57: [59, 60],\n",
              " 58: [60, 61],\n",
              " 59: [61, 62],\n",
              " 60: [62, 63],\n",
              " 61: [63, 64],\n",
              " 62: [64, 65],\n",
              " 63: [65, 66],\n",
              " 64: [66, 67],\n",
              " 65: [67, 68],\n",
              " 66: [68, 69],\n",
              " 67: [69, 70],\n",
              " 68: [70, 71],\n",
              " 69: [71, 72],\n",
              " 70: [72, 73],\n",
              " 71: [73, 74],\n",
              " 72: [74, 75],\n",
              " 73: [75, 76],\n",
              " 74: [76, 77],\n",
              " 75: [77, 78],\n",
              " 76: [78, 79],\n",
              " 77: [79, 80],\n",
              " 78: [80, 81],\n",
              " 79: [81, 82],\n",
              " 80: [82, 83],\n",
              " 81: [83, 84],\n",
              " 82: [84, 85],\n",
              " 83: [85, 86],\n",
              " 84: [86, 87],\n",
              " 85: [87, 88],\n",
              " 86: [88, 89],\n",
              " 87: [89, 90],\n",
              " 88: [90, 91],\n",
              " 89: [91, 92],\n",
              " 90: [92, 93],\n",
              " 91: [93, 94],\n",
              " 92: [94, 95],\n",
              " 93: [95, 96],\n",
              " 94: [96, 97],\n",
              " 95: [97, 98],\n",
              " 96: [98, 99],\n",
              " 97: [99, -1]}"
            ]
          },
          "metadata": {
            "tags": []
          },
          "execution_count": 5
        }
      ]
    },
    {
      "metadata": {
        "id": "Ou_iT8zH40Fu",
        "colab_type": "code",
        "colab": {
          "base_uri": "https://localhost:8080/",
          "height": 70
        },
        "outputId": "1ca227ac-0560-4f54-c326-113b79f3ed31"
      },
      "cell_type": "code",
      "source": [
        "from itertools import combinations\n",
        "\n",
        "# Get all combinations of [1, 2, 3] \n",
        "# and length 2 \n",
        "comb = combinations([0, 2, 3], 2) \n",
        "  \n",
        "# Print the obtained combinations \n",
        "for i in list(comb): \n",
        "    print(i) "
      ],
      "execution_count": 10,
      "outputs": [
        {
          "output_type": "stream",
          "text": [
            "(0, 2)\n",
            "(0, 3)\n",
            "(2, 3)\n"
          ],
          "name": "stdout"
        }
      ]
    },
    {
      "metadata": {
        "id": "u0BvU2AQkQvs",
        "colab_type": "code",
        "colab": {
          "base_uri": "https://localhost:8080/",
          "height": 220
        },
        "outputId": "449fb9c3-cf98-4b36-bb16-cf38eff5deb9"
      },
      "cell_type": "code",
      "source": [
        "def gg(t,k):\n",
        "  if k not in t:\n",
        "    #print('{} NF'.format(k))\n",
        "    return [k]\n",
        "  else:\n",
        "    #print('{},{},{}'.format(k,t[k][0],t[k][1]))\n",
        "    if t[k][1] == -1:\n",
        "      return [k,[gg(t,t[k][0])]]\n",
        "    else:\n",
        "      return [k,[gg(t,t[k][0]),gg(t,t[k][1])]]\n",
        "    \n",
        "b=gg(treeDict,0)\n",
        "    "
      ],
      "execution_count": 3,
      "outputs": [
        {
          "output_type": "error",
          "ename": "NameError",
          "evalue": "ignored",
          "traceback": [
            "\u001b[0;31m---------------------------------------------------------------------------\u001b[0m",
            "\u001b[0;31mNameError\u001b[0m                                 Traceback (most recent call last)",
            "\u001b[0;32m<ipython-input-3-fc4789a23123>\u001b[0m in \u001b[0;36m<module>\u001b[0;34m()\u001b[0m\n\u001b[1;32m     10\u001b[0m       \u001b[0;32mreturn\u001b[0m \u001b[0;34m[\u001b[0m\u001b[0mk\u001b[0m\u001b[0;34m,\u001b[0m\u001b[0;34m[\u001b[0m\u001b[0mgg\u001b[0m\u001b[0;34m(\u001b[0m\u001b[0mt\u001b[0m\u001b[0;34m,\u001b[0m\u001b[0mt\u001b[0m\u001b[0;34m[\u001b[0m\u001b[0mk\u001b[0m\u001b[0;34m]\u001b[0m\u001b[0;34m[\u001b[0m\u001b[0;36m0\u001b[0m\u001b[0;34m]\u001b[0m\u001b[0;34m)\u001b[0m\u001b[0;34m,\u001b[0m\u001b[0mgg\u001b[0m\u001b[0;34m(\u001b[0m\u001b[0mt\u001b[0m\u001b[0;34m,\u001b[0m\u001b[0mt\u001b[0m\u001b[0;34m[\u001b[0m\u001b[0mk\u001b[0m\u001b[0;34m]\u001b[0m\u001b[0;34m[\u001b[0m\u001b[0;36m1\u001b[0m\u001b[0;34m]\u001b[0m\u001b[0;34m)\u001b[0m\u001b[0;34m]\u001b[0m\u001b[0;34m]\u001b[0m\u001b[0;34m\u001b[0m\u001b[0;34m\u001b[0m\u001b[0m\n\u001b[1;32m     11\u001b[0m \u001b[0;34m\u001b[0m\u001b[0m\n\u001b[0;32m---> 12\u001b[0;31m \u001b[0mb\u001b[0m\u001b[0;34m=\u001b[0m\u001b[0mgg\u001b[0m\u001b[0;34m(\u001b[0m\u001b[0mtreeDict\u001b[0m\u001b[0;34m,\u001b[0m\u001b[0;36m0\u001b[0m\u001b[0;34m)\u001b[0m\u001b[0;34m\u001b[0m\u001b[0;34m\u001b[0m\u001b[0m\n\u001b[0m\u001b[1;32m     13\u001b[0m \u001b[0;34m\u001b[0m\u001b[0m\n",
            "\u001b[0;31mNameError\u001b[0m: name 'treeDict' is not defined"
          ]
        }
      ]
    },
    {
      "metadata": {
        "id": "FTKFtAJent0F",
        "colab_type": "code",
        "colab": {
          "base_uri": "https://localhost:8080/",
          "height": 167
        },
        "outputId": "b8928ad5-947c-4ab1-826f-fbe1b7ef2a8f"
      },
      "cell_type": "code",
      "source": [
        "b"
      ],
      "execution_count": 2,
      "outputs": [
        {
          "output_type": "error",
          "ename": "NameError",
          "evalue": "ignored",
          "traceback": [
            "\u001b[0;31m---------------------------------------------------------------------------\u001b[0m",
            "\u001b[0;31mNameError\u001b[0m                                 Traceback (most recent call last)",
            "\u001b[0;32m<ipython-input-2-89e6c98d9288>\u001b[0m in \u001b[0;36m<module>\u001b[0;34m()\u001b[0m\n\u001b[0;32m----> 1\u001b[0;31m \u001b[0mb\u001b[0m\u001b[0;34m\u001b[0m\u001b[0;34m\u001b[0m\u001b[0m\n\u001b[0m",
            "\u001b[0;31mNameError\u001b[0m: name 'b' is not defined"
          ]
        }
      ]
    },
    {
      "metadata": {
        "id": "4C25xvRCeD1W",
        "colab_type": "code",
        "colab": {}
      },
      "cell_type": "code",
      "source": [
        "def paths(orig,tree, cur=()):\n",
        "    if cur:\n",
        "        if cur[0] not in range(2):\n",
        "            return\n",
        "            \n",
        "    if not tree:\n",
        "        yield cur\n",
        "        \n",
        "    else:\n",
        "        for n, s in tree.items():\n",
        "            if n in orig:\n",
        "                if orig[n][1] == -1:\n",
        "                    for path in paths(orig,{orig[n][0]:{}}, cur+(n,)):\n",
        "                        yield path\n",
        "                else:\n",
        "                    for path in paths(orig,{orig[n][0]:{},orig[n][1]:{}}, cur+(n,)):\n",
        "                        yield path\n",
        "            else:\n",
        "                for path in paths(orig,{}, cur+(n,)):\n",
        "                    yield path"
      ],
      "execution_count": 0,
      "outputs": []
    },
    {
      "metadata": {
        "id": "B-t_09mUeEWw",
        "colab_type": "code",
        "colab": {}
      },
      "cell_type": "code",
      "source": [
        "\n",
        "def wpaths(wlst,orig,tree, cur=()):\n",
        "    if cur:\n",
        "        if cur[0] not in range(2):\n",
        "            return\n",
        "            \n",
        "    if not tree:\n",
        "        yield cur\n",
        "        \n",
        "    else:\n",
        "        for n, s in tree.items():\n",
        "            if n in orig:\n",
        "                if orig[n][1] == -1:\n",
        "                    for path in wpaths(wlst,orig,{orig[n][0]:{}}, cur+(n,)):\n",
        "                        yield path\n",
        "                else:\n",
        "                    if wlst[orig[n][0]] < 0 or wlst[orig[n][1]] < 0 or wlst[orig[n][0]]==wlst[orig[n][1]]:\n",
        "                        for path in wpaths(wlst,orig,{orig[n][0]:{},orig[n][1]:{}}, cur+(n,)):\n",
        "                            yield path\n",
        "                    else:\n",
        "                        if wlst[orig[n][0]] < wlst[orig[n][1]]:\n",
        "                            for path in wpaths(wlst,orig,{orig[n][1]:{}}, cur+(n,)):\n",
        "                                yield path\n",
        "                        else:\n",
        "                            for path in wpaths(wlst,orig,{orig[n][0]:{}}, cur+(n,)):\n",
        "                                yield path\n",
        "            else:\n",
        "                for path in wpaths(wlst,orig,{}, cur+(n,)):\n",
        "                    yield path\n",
        "\n"
      ],
      "execution_count": 0,
      "outputs": []
    },
    {
      "metadata": {
        "id": "MtfytTbGeM45",
        "colab_type": "code",
        "colab": {}
      },
      "cell_type": "code",
      "source": [
        "a=list(wpaths(inputList,treeDict,treeDict))"
      ],
      "execution_count": 0,
      "outputs": []
    },
    {
      "metadata": {
        "id": "XIqr5aP-iY99",
        "colab_type": "code",
        "colab": {
          "base_uri": "https://localhost:8080/",
          "height": 167
        },
        "outputId": "023806b6-4829-497f-f733-41e785f9271c"
      },
      "cell_type": "code",
      "source": [
        "[1,3]* [3,4]"
      ],
      "execution_count": 11,
      "outputs": [
        {
          "output_type": "error",
          "ename": "TypeError",
          "evalue": "ignored",
          "traceback": [
            "\u001b[0;31m---------------------------------------------------------------------------\u001b[0m",
            "\u001b[0;31mTypeError\u001b[0m                                 Traceback (most recent call last)",
            "\u001b[0;32m<ipython-input-11-b03b5a058708>\u001b[0m in \u001b[0;36m<module>\u001b[0;34m()\u001b[0m\n\u001b[0;32m----> 1\u001b[0;31m \u001b[0;34m[\u001b[0m\u001b[0;36m1\u001b[0m\u001b[0;34m,\u001b[0m\u001b[0;36m3\u001b[0m\u001b[0;34m]\u001b[0m\u001b[0;34m*\u001b[0m \u001b[0;34m[\u001b[0m\u001b[0;36m3\u001b[0m\u001b[0;34m,\u001b[0m\u001b[0;36m4\u001b[0m\u001b[0;34m]\u001b[0m\u001b[0;34m\u001b[0m\u001b[0;34m\u001b[0m\u001b[0m\n\u001b[0m",
            "\u001b[0;31mTypeError\u001b[0m: can't multiply sequence by non-int of type 'list'"
          ]
        }
      ]
    },
    {
      "metadata": {
        "id": "u9bq6zb75d-t",
        "colab_type": "code",
        "colab": {
          "base_uri": "https://localhost:8080/",
          "height": 72
        },
        "outputId": "6c8152bd-64b4-49ed-fa6f-f81e57a53a3c"
      },
      "cell_type": "code",
      "source": [
        "import itertools \n",
        "  \n",
        "# initializing list of list  \n",
        "all_list = [[0], [2,3],[4,5],[5,6],[6,7\n",
        "                                   ]] \n",
        "  \n",
        "# printing lists  \n",
        "print (\"The original lists are : \" + str(all_list)) \n",
        "  \n",
        "# using itertools.product()   \n",
        "# to compute all possible permutations \n",
        "res = list(itertools.product(*all_list)) \n",
        "  \n",
        "# printing result \n",
        "print (\"All possible permutations are : \" +  str(res))"
      ],
      "execution_count": 15,
      "outputs": [
        {
          "output_type": "stream",
          "text": [
            "The original lists are : [[0], [2, 3], [4, 5], [5, 6], [6, 7]]\n",
            "All possible permutations are : [(0, 2, 4, 5, 6), (0, 2, 4, 5, 7), (0, 2, 4, 6, 6), (0, 2, 4, 6, 7), (0, 2, 5, 5, 6), (0, 2, 5, 5, 7), (0, 2, 5, 6, 6), (0, 2, 5, 6, 7), (0, 3, 4, 5, 6), (0, 3, 4, 5, 7), (0, 3, 4, 6, 6), (0, 3, 4, 6, 7), (0, 3, 5, 5, 6), (0, 3, 5, 5, 7), (0, 3, 5, 6, 6), (0, 3, 5, 6, 7)]\n"
          ],
          "name": "stdout"
        }
      ]
    },
    {
      "metadata": {
        "id": "Bxy1aOgN597p",
        "colab_type": "code",
        "colab": {}
      },
      "cell_type": "code",
      "source": [
        ""
      ],
      "execution_count": 0,
      "outputs": []
    }
  ]
}