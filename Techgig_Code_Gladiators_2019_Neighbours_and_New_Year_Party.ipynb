{
  "nbformat": 4,
  "nbformat_minor": 0,
  "metadata": {
    "colab": {
      "name": "Techgig_Code_Gladiators 2019 - Neighbours and New Year Party.ipynb",
      "version": "0.3.2",
      "provenance": [],
      "collapsed_sections": [],
      "include_colab_link": true
    },
    "kernelspec": {
      "name": "python3",
      "display_name": "Python 3"
    }
  },
  "cells": [
    {
      "cell_type": "markdown",
      "metadata": {
        "id": "view-in-github",
        "colab_type": "text"
      },
      "source": [
        "<a href=\"https://colab.research.google.com/github/dixitm20/colaboratory/blob/master/Techgig_Code_Gladiators_2019_Neighbours_and_New_Year_Party.ipynb\" target=\"_parent\"><img src=\"https://colab.research.google.com/assets/colab-badge.svg\" alt=\"Open In Colab\"/></a>"
      ]
    },
    {
      "metadata": {
        "id": "75Bwmz0-dBFE",
        "colab_type": "code",
        "colab": {}
      },
      "cell_type": "code",
      "source": [
        ""
      ],
      "execution_count": 0,
      "outputs": []
    },
    {
      "metadata": {
        "id": "Vc3uw_o5dF0z",
        "colab_type": "code",
        "outputId": "db92e6e6-0c54-4ed4-bc5b-e14d886cd74c",
        "colab": {
          "base_uri": "https://localhost:8080/",
          "height": 70
        }
      },
      "cell_type": "code",
      "source": [
        "# ''' Read input from STDIN. Print your output to STDOUT '''\n",
        "    #Use input() to read input from STDIN and use print to write your output to STDOUT\n",
        "\n",
        "def main():\n",
        "\n",
        "    # Write code here \n",
        "    NumOfTestCases = int(input())\n",
        "\n",
        "    for ctr in range(NumOfTestCases):\n",
        "        numOfHousesInput=input()\n",
        "        #print(numOfHousesInput)\n",
        "        numOfHouses=int(numOfHousesInput.strip())\n",
        "\n",
        "        ticketTokenNumbers=input()\n",
        "        #print(ticketTokenNumbers.strip())\n",
        "        ticketTokenNumbersList=[int(tokenNum) for tokenNum in ticketTokenNumbers.strip().split(' ')]\n",
        "        \n",
        "                           \n",
        "main()"
      ],
      "execution_count": 0,
      "outputs": [
        {
          "output_type": "stream",
          "text": [
            "1\n",
            "1\n",
            "1\n"
          ],
          "name": "stdout"
        }
      ]
    },
    {
      "metadata": {
        "id": "Nv4mwwkEd8pk",
        "colab_type": "code",
        "colab": {}
      },
      "cell_type": "code",
      "source": [
        "import random\n",
        "inputList=[]\n",
        "for x in range(100):\n",
        "    inputList.append(random.randint(-10,10))\n",
        "inputList\n"
      ],
      "execution_count": 0,
      "outputs": []
    },
    {
      "metadata": {
        "id": "YprDUxJFd7o3",
        "colab_type": "code",
        "colab": {}
      },
      "cell_type": "code",
      "source": [
        "numOfElem=100\n",
        "treeDict={}\n",
        "for ctr in range(numOfElem):\n",
        "    # print('{}, {}, {}, {}'.format(ctr,ctr+2,ctr+3,numOfElem))\n",
        "    if (ctr+2) < numOfElem:\n",
        "        if (ctr+3) < numOfElem:\n",
        "            treeDict[ctr]=[ctr+2,ctr+3]\n",
        "        else:\n",
        "            treeDict[ctr]=[ctr+2,-1]\n",
        "        # print(treeDict[ctr])"
      ],
      "execution_count": 0,
      "outputs": []
    },
    {
      "metadata": {
        "id": "8MFWQVs4kHmf",
        "colab_type": "code",
        "outputId": "bdd7fe35-6bf0-4139-b974-883ec84f4b36",
        "colab": {
          "base_uri": "https://localhost:8080/",
          "height": 1742
        }
      },
      "cell_type": "code",
      "source": [
        "treeDict"
      ],
      "execution_count": 0,
      "outputs": [
        {
          "output_type": "execute_result",
          "data": {
            "text/plain": [
              "{0: [2, 3],\n",
              " 1: [3, 4],\n",
              " 2: [4, 5],\n",
              " 3: [5, 6],\n",
              " 4: [6, 7],\n",
              " 5: [7, 8],\n",
              " 6: [8, 9],\n",
              " 7: [9, 10],\n",
              " 8: [10, 11],\n",
              " 9: [11, 12],\n",
              " 10: [12, 13],\n",
              " 11: [13, 14],\n",
              " 12: [14, 15],\n",
              " 13: [15, 16],\n",
              " 14: [16, 17],\n",
              " 15: [17, 18],\n",
              " 16: [18, 19],\n",
              " 17: [19, 20],\n",
              " 18: [20, 21],\n",
              " 19: [21, 22],\n",
              " 20: [22, 23],\n",
              " 21: [23, 24],\n",
              " 22: [24, 25],\n",
              " 23: [25, 26],\n",
              " 24: [26, 27],\n",
              " 25: [27, 28],\n",
              " 26: [28, 29],\n",
              " 27: [29, 30],\n",
              " 28: [30, 31],\n",
              " 29: [31, 32],\n",
              " 30: [32, 33],\n",
              " 31: [33, 34],\n",
              " 32: [34, 35],\n",
              " 33: [35, 36],\n",
              " 34: [36, 37],\n",
              " 35: [37, 38],\n",
              " 36: [38, 39],\n",
              " 37: [39, 40],\n",
              " 38: [40, 41],\n",
              " 39: [41, 42],\n",
              " 40: [42, 43],\n",
              " 41: [43, 44],\n",
              " 42: [44, 45],\n",
              " 43: [45, 46],\n",
              " 44: [46, 47],\n",
              " 45: [47, 48],\n",
              " 46: [48, 49],\n",
              " 47: [49, 50],\n",
              " 48: [50, 51],\n",
              " 49: [51, 52],\n",
              " 50: [52, 53],\n",
              " 51: [53, 54],\n",
              " 52: [54, 55],\n",
              " 53: [55, 56],\n",
              " 54: [56, 57],\n",
              " 55: [57, 58],\n",
              " 56: [58, 59],\n",
              " 57: [59, 60],\n",
              " 58: [60, 61],\n",
              " 59: [61, 62],\n",
              " 60: [62, 63],\n",
              " 61: [63, 64],\n",
              " 62: [64, 65],\n",
              " 63: [65, 66],\n",
              " 64: [66, 67],\n",
              " 65: [67, 68],\n",
              " 66: [68, 69],\n",
              " 67: [69, 70],\n",
              " 68: [70, 71],\n",
              " 69: [71, 72],\n",
              " 70: [72, 73],\n",
              " 71: [73, 74],\n",
              " 72: [74, 75],\n",
              " 73: [75, 76],\n",
              " 74: [76, 77],\n",
              " 75: [77, 78],\n",
              " 76: [78, 79],\n",
              " 77: [79, 80],\n",
              " 78: [80, 81],\n",
              " 79: [81, 82],\n",
              " 80: [82, 83],\n",
              " 81: [83, 84],\n",
              " 82: [84, 85],\n",
              " 83: [85, 86],\n",
              " 84: [86, 87],\n",
              " 85: [87, 88],\n",
              " 86: [88, 89],\n",
              " 87: [89, 90],\n",
              " 88: [90, 91],\n",
              " 89: [91, 92],\n",
              " 90: [92, 93],\n",
              " 91: [93, 94],\n",
              " 92: [94, 95],\n",
              " 93: [95, 96],\n",
              " 94: [96, 97],\n",
              " 95: [97, 98],\n",
              " 96: [98, 99],\n",
              " 97: [99, -1]}"
            ]
          },
          "metadata": {
            "tags": []
          },
          "execution_count": 9
        }
      ]
    },
    {
      "metadata": {
        "id": "M0XaglOA9mC3",
        "colab_type": "code",
        "outputId": "25f7e77a-f313-4c70-d9c5-90a745c26f50",
        "colab": {
          "base_uri": "https://localhost:8080/",
          "height": 547
        }
      },
      "cell_type": "code",
      "source": [
        "numOfElem=10\n",
        "treeDict={}\n",
        "newdt={}\n",
        "\n",
        "for ctr in range(numOfElem):\n",
        "    # print('{}, {}, {}, {}'.format(ctr,ctr+2,ctr+3,numOfElem))\n",
        "    \n",
        "    if (ctr+2) < numOfElem:\n",
        "        if (ctr+3) < numOfElem:\n",
        "            treeDict[ctr]=[ctr+2,ctr+3]\n",
        "            \n",
        "            if (ctr+2) not in newdt:\n",
        "              if ctr in newdt:\n",
        "                newdt[ctr+2]=[]\n",
        "                for elem in newdt[ctr]:\n",
        "                  newdt[ctr+2].append(elem + (ctr+2,))\n",
        "                #del newdt[ctr]\n",
        "                pass\n",
        "              else: \n",
        "                newdt[ctr+2]=[(ctr,ctr+2)]\n",
        "            else:\n",
        "              if ctr in newdt:\n",
        "                for elem in newdt[ctr]:\n",
        "                  newdt[ctr+2].append(elem + (ctr+2,))\n",
        "                #del newdt[ctr]\n",
        "                pass\n",
        "              else: \n",
        "                newdt[ctr+2].append((ctr,ctr+2))\n",
        "              \n",
        "            \n",
        "            if (ctr+3) not in newdt:\n",
        "              if ctr in newdt:\n",
        "                newdt[ctr+3]=[]\n",
        "                for elem in newdt[ctr]:\n",
        "                  newdt[ctr+3].append(elem + (ctr+3,))\n",
        "                del newdt[ctr]\n",
        "                pass\n",
        "              else: \n",
        "                newdt[ctr+3]=[(ctr,ctr+3)]\n",
        "            else:\n",
        "              if ctr in newdt:\n",
        "                for elem in newdt[ctr]:\n",
        "                  newdt[ctr+3].append(elem + (ctr+3,))\n",
        "                del newdt[ctr]\n",
        "                pass\n",
        "              else: \n",
        "                newdt[ctr+3].append((ctr,ctr+3))\n",
        "              \n",
        "\n",
        "        else:\n",
        "          treeDict[ctr]=[ctr+2,-1]\n",
        "          \n",
        "          if (ctr+2) not in newdt:\n",
        "            if ctr in newdt:\n",
        "              newdt[ctr+2]=[]\n",
        "              for elem in newdt[ctr]:\n",
        "                newdt[ctr+2].append(elem + (ctr+2,))\n",
        "              del newdt[ctr]\n",
        "              pass\n",
        "            else: \n",
        "              newdt[ctr+2]=[(ctr,ctr+2)]\n",
        "          else:\n",
        "            if ctr in newdt:\n",
        "              for elem in newdt[ctr]:\n",
        "                newdt[ctr+2].append(elem + (ctr+2,))\n",
        "              del newdt[ctr]\n",
        "              pass\n",
        "            else:\n",
        "              newdt[ctr+2].append((ctr,ctr+2))\n",
        "            \n",
        "    \n",
        "    print(treeDict)\n",
        "    print('reak')\n",
        "    print(newdt)\n",
        "        # print(treeDict[ctr])"
      ],
      "execution_count": 0,
      "outputs": [
        {
          "output_type": "stream",
          "text": [
            "{0: [2, 3]}\n",
            "reak\n",
            "{2: [(0, 2)], 3: [(0, 3)]}\n",
            "{0: [2, 3], 1: [3, 4]}\n",
            "reak\n",
            "{2: [(0, 2)], 3: [(0, 3), (1, 3)], 4: [(1, 4)]}\n",
            "{0: [2, 3], 1: [3, 4], 2: [4, 5]}\n",
            "reak\n",
            "{3: [(0, 3), (1, 3)], 4: [(1, 4), (0, 2, 4)], 5: [(0, 2, 5)]}\n",
            "{0: [2, 3], 1: [3, 4], 2: [4, 5], 3: [5, 6]}\n",
            "reak\n",
            "{4: [(1, 4), (0, 2, 4)], 5: [(0, 2, 5), (0, 3, 5), (1, 3, 5)], 6: [(0, 3, 6), (1, 3, 6)]}\n",
            "{0: [2, 3], 1: [3, 4], 2: [4, 5], 3: [5, 6], 4: [6, 7]}\n",
            "reak\n",
            "{5: [(0, 2, 5), (0, 3, 5), (1, 3, 5)], 6: [(0, 3, 6), (1, 3, 6), (1, 4, 6), (0, 2, 4, 6)], 7: [(1, 4, 7), (0, 2, 4, 7)]}\n",
            "{0: [2, 3], 1: [3, 4], 2: [4, 5], 3: [5, 6], 4: [6, 7], 5: [7, 8]}\n",
            "reak\n",
            "{6: [(0, 3, 6), (1, 3, 6), (1, 4, 6), (0, 2, 4, 6)], 7: [(1, 4, 7), (0, 2, 4, 7), (0, 2, 5, 7), (0, 3, 5, 7), (1, 3, 5, 7)], 8: [(0, 2, 5, 8), (0, 3, 5, 8), (1, 3, 5, 8)]}\n",
            "{0: [2, 3], 1: [3, 4], 2: [4, 5], 3: [5, 6], 4: [6, 7], 5: [7, 8], 6: [8, 9]}\n",
            "reak\n",
            "{7: [(1, 4, 7), (0, 2, 4, 7), (0, 2, 5, 7), (0, 3, 5, 7), (1, 3, 5, 7)], 8: [(0, 2, 5, 8), (0, 3, 5, 8), (1, 3, 5, 8), (0, 3, 6, 8), (1, 3, 6, 8), (1, 4, 6, 8), (0, 2, 4, 6, 8)], 9: [(0, 3, 6, 9), (1, 3, 6, 9), (1, 4, 6, 9), (0, 2, 4, 6, 9)]}\n",
            "{0: [2, 3], 1: [3, 4], 2: [4, 5], 3: [5, 6], 4: [6, 7], 5: [7, 8], 6: [8, 9], 7: [9, -1]}\n",
            "reak\n",
            "{8: [(0, 2, 5, 8), (0, 3, 5, 8), (1, 3, 5, 8), (0, 3, 6, 8), (1, 3, 6, 8), (1, 4, 6, 8), (0, 2, 4, 6, 8)], 9: [(0, 3, 6, 9), (1, 3, 6, 9), (1, 4, 6, 9), (0, 2, 4, 6, 9), (1, 4, 7, 9), (0, 2, 4, 7, 9), (0, 2, 5, 7, 9), (0, 3, 5, 7, 9), (1, 3, 5, 7, 9)]}\n",
            "{0: [2, 3], 1: [3, 4], 2: [4, 5], 3: [5, 6], 4: [6, 7], 5: [7, 8], 6: [8, 9], 7: [9, -1]}\n",
            "reak\n",
            "{8: [(0, 2, 5, 8), (0, 3, 5, 8), (1, 3, 5, 8), (0, 3, 6, 8), (1, 3, 6, 8), (1, 4, 6, 8), (0, 2, 4, 6, 8)], 9: [(0, 3, 6, 9), (1, 3, 6, 9), (1, 4, 6, 9), (0, 2, 4, 6, 9), (1, 4, 7, 9), (0, 2, 4, 7, 9), (0, 2, 5, 7, 9), (0, 3, 5, 7, 9), (1, 3, 5, 7, 9)]}\n",
            "{0: [2, 3], 1: [3, 4], 2: [4, 5], 3: [5, 6], 4: [6, 7], 5: [7, 8], 6: [8, 9], 7: [9, -1]}\n",
            "reak\n",
            "{8: [(0, 2, 5, 8), (0, 3, 5, 8), (1, 3, 5, 8), (0, 3, 6, 8), (1, 3, 6, 8), (1, 4, 6, 8), (0, 2, 4, 6, 8)], 9: [(0, 3, 6, 9), (1, 3, 6, 9), (1, 4, 6, 9), (0, 2, 4, 6, 9), (1, 4, 7, 9), (0, 2, 4, 7, 9), (0, 2, 5, 7, 9), (0, 3, 5, 7, 9), (1, 3, 5, 7, 9)]}\n"
          ],
          "name": "stdout"
        }
      ]
    },
    {
      "metadata": {
        "id": "0PaflX5PIe2t",
        "colab_type": "code",
        "outputId": "f30f4514-e605-4eef-bebb-06aa44f0c86e",
        "colab": {
          "base_uri": "https://localhost:8080/",
          "height": 158
        }
      },
      "cell_type": "code",
      "source": [
        "treeDict"
      ],
      "execution_count": 0,
      "outputs": [
        {
          "output_type": "execute_result",
          "data": {
            "text/plain": [
              "{0: [2, 3],\n",
              " 1: [3, 4],\n",
              " 2: [4, 5],\n",
              " 3: [5, 6],\n",
              " 4: [6, 7],\n",
              " 5: [7, 8],\n",
              " 6: [8, 9],\n",
              " 7: [9, -1]}"
            ]
          },
          "metadata": {
            "tags": []
          },
          "execution_count": 72
        }
      ]
    },
    {
      "metadata": {
        "id": "o2hpmA3YJNYK",
        "colab_type": "code",
        "outputId": "badb8035-fd7f-429c-9c44-d1c5b213a8e4",
        "colab": {
          "base_uri": "https://localhost:8080/",
          "height": 298
        }
      },
      "cell_type": "code",
      "source": [
        "newdt"
      ],
      "execution_count": 0,
      "outputs": [
        {
          "output_type": "execute_result",
          "data": {
            "text/plain": [
              "{8: [(0, 2, 5, 8),\n",
              "  (0, 3, 5, 8),\n",
              "  (1, 3, 5, 8),\n",
              "  (0, 3, 6, 8),\n",
              "  (1, 3, 6, 8),\n",
              "  (1, 4, 6, 8),\n",
              "  (0, 2, 4, 6, 8)],\n",
              " 9: [(0, 3, 6, 9),\n",
              "  (1, 3, 6, 9),\n",
              "  (1, 4, 6, 9),\n",
              "  (0, 2, 4, 6, 9),\n",
              "  (1, 4, 7, 9),\n",
              "  (0, 2, 4, 7, 9),\n",
              "  (0, 2, 5, 7, 9),\n",
              "  (0, 3, 5, 7, 9),\n",
              "  (1, 3, 5, 7, 9)]}"
            ]
          },
          "metadata": {
            "tags": []
          },
          "execution_count": 73
        }
      ]
    },
    {
      "metadata": {
        "id": "spJwfALwVQjy",
        "colab_type": "code",
        "outputId": "9e379509-b39e-4afb-bd6b-e0f652e8ac05",
        "colab": {
          "base_uri": "https://localhost:8080/",
          "height": 34
        }
      },
      "cell_type": "code",
      "source": [
        "newdt"
      ],
      "execution_count": 0,
      "outputs": [
        {
          "output_type": "execute_result",
          "data": {
            "text/plain": [
              "{3: [(0, 3), (1, 3)], 4: [(1, 4)]}"
            ]
          },
          "metadata": {
            "tags": []
          },
          "execution_count": 50
        }
      ]
    },
    {
      "metadata": {
        "colab_type": "code",
        "outputId": "8f0b3930-e8c3-4b55-a4c7-a2c0409c97ec",
        "id": "agYGC0bnIgFU",
        "colab": {
          "base_uri": "https://localhost:8080/",
          "height": 34
        }
      },
      "cell_type": "code",
      "source": [
        "numOfElem=100\n",
        "treeDict={}\n",
        "for ctr in range(numOfElem):\n",
        "    # print('{}, {}, {}, {}'.format(ctr,ctr+2,ctr+3,numOfElem))\n",
        "    if (ctr+2) < numOfElem:\n",
        "        if (ctr+3) < numOfElem:\n",
        "            treeDict[ctr]=[ctr+2,ctr+3]\n",
        "        else:\n",
        "            treeDict[ctr]=[ctr+2,-1]\n",
        "        # print(treeDict[ctr])"
      ],
      "execution_count": 0,
      "outputs": [
        {
          "output_type": "execute_result",
          "data": {
            "text/plain": [
              "[2, 3]"
            ]
          },
          "metadata": {
            "tags": []
          },
          "execution_count": 7
        }
      ]
    },
    {
      "metadata": {
        "id": "Ou_iT8zH40Fu",
        "colab_type": "code",
        "outputId": "a1da7f09-69e6-4b45-88b1-ae9a7d69de71",
        "colab": {
          "base_uri": "https://localhost:8080/",
          "height": 34
        }
      },
      "cell_type": "code",
      "source": [
        "from itertools import combinations\n",
        "\n",
        "# Get all combinations of [1, 2, 3] \n",
        "# and length 2 \n",
        "comb = combinations([[0, 2], [1,2,4]], 2) \n",
        "  \n",
        "# Print the obtained combinations \n",
        "for i in list(comb): \n",
        "    print(i) "
      ],
      "execution_count": 0,
      "outputs": [
        {
          "output_type": "stream",
          "text": [
            "([0, 2], [1, 2, 4])\n"
          ],
          "name": "stdout"
        }
      ]
    },
    {
      "metadata": {
        "id": "u0BvU2AQkQvs",
        "colab_type": "code",
        "outputId": "449fb9c3-cf98-4b36-bb16-cf38eff5deb9",
        "colab": {
          "base_uri": "https://localhost:8080/",
          "height": 220
        }
      },
      "cell_type": "code",
      "source": [
        "def gg(t,k):\n",
        "  if k not in t:\n",
        "    #print('{} NF'.format(k))\n",
        "    return [k]\n",
        "  else:\n",
        "    #print('{},{},{}'.format(k,t[k][0],t[k][1]))\n",
        "    if t[k][1] == -1:\n",
        "      return [k,[gg(t,t[k][0])]]\n",
        "    else:\n",
        "      return [k,[gg(t,t[k][0]),gg(t,t[k][1])]]\n",
        "    \n",
        "b=gg(treeDict,0)\n",
        "    "
      ],
      "execution_count": 0,
      "outputs": [
        {
          "output_type": "error",
          "ename": "NameError",
          "evalue": "ignored",
          "traceback": [
            "\u001b[0;31m---------------------------------------------------------------------------\u001b[0m",
            "\u001b[0;31mNameError\u001b[0m                                 Traceback (most recent call last)",
            "\u001b[0;32m<ipython-input-3-fc4789a23123>\u001b[0m in \u001b[0;36m<module>\u001b[0;34m()\u001b[0m\n\u001b[1;32m     10\u001b[0m       \u001b[0;32mreturn\u001b[0m \u001b[0;34m[\u001b[0m\u001b[0mk\u001b[0m\u001b[0;34m,\u001b[0m\u001b[0;34m[\u001b[0m\u001b[0mgg\u001b[0m\u001b[0;34m(\u001b[0m\u001b[0mt\u001b[0m\u001b[0;34m,\u001b[0m\u001b[0mt\u001b[0m\u001b[0;34m[\u001b[0m\u001b[0mk\u001b[0m\u001b[0;34m]\u001b[0m\u001b[0;34m[\u001b[0m\u001b[0;36m0\u001b[0m\u001b[0;34m]\u001b[0m\u001b[0;34m)\u001b[0m\u001b[0;34m,\u001b[0m\u001b[0mgg\u001b[0m\u001b[0;34m(\u001b[0m\u001b[0mt\u001b[0m\u001b[0;34m,\u001b[0m\u001b[0mt\u001b[0m\u001b[0;34m[\u001b[0m\u001b[0mk\u001b[0m\u001b[0;34m]\u001b[0m\u001b[0;34m[\u001b[0m\u001b[0;36m1\u001b[0m\u001b[0;34m]\u001b[0m\u001b[0;34m)\u001b[0m\u001b[0;34m]\u001b[0m\u001b[0;34m]\u001b[0m\u001b[0;34m\u001b[0m\u001b[0;34m\u001b[0m\u001b[0m\n\u001b[1;32m     11\u001b[0m \u001b[0;34m\u001b[0m\u001b[0m\n\u001b[0;32m---> 12\u001b[0;31m \u001b[0mb\u001b[0m\u001b[0;34m=\u001b[0m\u001b[0mgg\u001b[0m\u001b[0;34m(\u001b[0m\u001b[0mtreeDict\u001b[0m\u001b[0;34m,\u001b[0m\u001b[0;36m0\u001b[0m\u001b[0;34m)\u001b[0m\u001b[0;34m\u001b[0m\u001b[0;34m\u001b[0m\u001b[0m\n\u001b[0m\u001b[1;32m     13\u001b[0m \u001b[0;34m\u001b[0m\u001b[0m\n",
            "\u001b[0;31mNameError\u001b[0m: name 'treeDict' is not defined"
          ]
        }
      ]
    },
    {
      "metadata": {
        "id": "FTKFtAJent0F",
        "colab_type": "code",
        "outputId": "b8928ad5-947c-4ab1-826f-fbe1b7ef2a8f",
        "colab": {
          "base_uri": "https://localhost:8080/",
          "height": 167
        }
      },
      "cell_type": "code",
      "source": [
        "b"
      ],
      "execution_count": 0,
      "outputs": [
        {
          "output_type": "error",
          "ename": "NameError",
          "evalue": "ignored",
          "traceback": [
            "\u001b[0;31m---------------------------------------------------------------------------\u001b[0m",
            "\u001b[0;31mNameError\u001b[0m                                 Traceback (most recent call last)",
            "\u001b[0;32m<ipython-input-2-89e6c98d9288>\u001b[0m in \u001b[0;36m<module>\u001b[0;34m()\u001b[0m\n\u001b[0;32m----> 1\u001b[0;31m \u001b[0mb\u001b[0m\u001b[0;34m\u001b[0m\u001b[0;34m\u001b[0m\u001b[0m\n\u001b[0m",
            "\u001b[0;31mNameError\u001b[0m: name 'b' is not defined"
          ]
        }
      ]
    },
    {
      "metadata": {
        "id": "4C25xvRCeD1W",
        "colab_type": "code",
        "colab": {}
      },
      "cell_type": "code",
      "source": [
        "def paths(orig,tree, cur=()):\n",
        "    if cur:\n",
        "        if cur[0] not in range(2):\n",
        "            return\n",
        "            \n",
        "    if not tree:\n",
        "        yield cur\n",
        "        \n",
        "    else:\n",
        "        for n, s in tree.items():\n",
        "            if n in orig:\n",
        "                if orig[n][1] == -1:\n",
        "                    for path in paths(orig,{orig[n][0]:{}}, cur+(n,)):\n",
        "                        yield path\n",
        "                else:\n",
        "                    for path in paths(orig,{orig[n][0]:{},orig[n][1]:{}}, cur+(n,)):\n",
        "                        yield path\n",
        "            else:\n",
        "                for path in paths(orig,{}, cur+(n,)):\n",
        "                    yield path"
      ],
      "execution_count": 0,
      "outputs": []
    },
    {
      "metadata": {
        "id": "B-t_09mUeEWw",
        "colab_type": "code",
        "colab": {}
      },
      "cell_type": "code",
      "source": [
        "\n",
        "def wpaths(wlst,orig,tree, cur=()):\n",
        "    if cur:\n",
        "        if cur[0] not in range(2):\n",
        "            return\n",
        "            \n",
        "    if not tree:\n",
        "        yield cur\n",
        "        \n",
        "    else:\n",
        "        for n, s in tree.items():\n",
        "            if n in orig:\n",
        "                if orig[n][1] == -1:\n",
        "                    for path in wpaths(wlst,orig,{orig[n][0]:{}}, cur+(n,)):\n",
        "                        yield path\n",
        "                else:\n",
        "                    if wlst[orig[n][0]] < 0 or wlst[orig[n][1]] < 0 or wlst[orig[n][0]]==wlst[orig[n][1]]:\n",
        "                        for path in wpaths(wlst,orig,{orig[n][0]:{},orig[n][1]:{}}, cur+(n,)):\n",
        "                            yield path\n",
        "                    else:\n",
        "                        if wlst[orig[n][0]] < wlst[orig[n][1]]:\n",
        "                            for path in wpaths(wlst,orig,{orig[n][1]:{}}, cur+(n,)):\n",
        "                                yield path\n",
        "                        else:\n",
        "                            for path in wpaths(wlst,orig,{orig[n][0]:{}}, cur+(n,)):\n",
        "                                yield path\n",
        "            else:\n",
        "                for path in wpaths(wlst,orig,{}, cur+(n,)):\n",
        "                    yield path\n",
        "\n"
      ],
      "execution_count": 0,
      "outputs": []
    },
    {
      "metadata": {
        "id": "MtfytTbGeM45",
        "colab_type": "code",
        "colab": {}
      },
      "cell_type": "code",
      "source": [
        "a=list(wpaths(inputList,treeDict,treeDict))"
      ],
      "execution_count": 0,
      "outputs": []
    },
    {
      "metadata": {
        "id": "XIqr5aP-iY99",
        "colab_type": "code",
        "outputId": "023806b6-4829-497f-f733-41e785f9271c",
        "colab": {
          "base_uri": "https://localhost:8080/",
          "height": 167
        }
      },
      "cell_type": "code",
      "source": [
        "[1,3]* [3,4]"
      ],
      "execution_count": 0,
      "outputs": [
        {
          "output_type": "error",
          "ename": "TypeError",
          "evalue": "ignored",
          "traceback": [
            "\u001b[0;31m---------------------------------------------------------------------------\u001b[0m",
            "\u001b[0;31mTypeError\u001b[0m                                 Traceback (most recent call last)",
            "\u001b[0;32m<ipython-input-11-b03b5a058708>\u001b[0m in \u001b[0;36m<module>\u001b[0;34m()\u001b[0m\n\u001b[0;32m----> 1\u001b[0;31m \u001b[0;34m[\u001b[0m\u001b[0;36m1\u001b[0m\u001b[0;34m,\u001b[0m\u001b[0;36m3\u001b[0m\u001b[0;34m]\u001b[0m\u001b[0;34m*\u001b[0m \u001b[0;34m[\u001b[0m\u001b[0;36m3\u001b[0m\u001b[0;34m,\u001b[0m\u001b[0;36m4\u001b[0m\u001b[0;34m]\u001b[0m\u001b[0;34m\u001b[0m\u001b[0;34m\u001b[0m\u001b[0m\n\u001b[0m",
            "\u001b[0;31mTypeError\u001b[0m: can't multiply sequence by non-int of type 'list'"
          ]
        }
      ]
    },
    {
      "metadata": {
        "id": "u9bq6zb75d-t",
        "colab_type": "code",
        "outputId": "6c8152bd-64b4-49ed-fa6f-f81e57a53a3c",
        "colab": {
          "base_uri": "https://localhost:8080/",
          "height": 72
        }
      },
      "cell_type": "code",
      "source": [
        "import itertools \n",
        "  \n",
        "# initializing list of list  \n",
        "all_list = [[0], [2,3],[4,5],[5,6],[6,7\n",
        "                                   ]] \n",
        "  \n",
        "# printing lists  \n",
        "print (\"The original lists are : \" + str(all_list)) \n",
        "  \n",
        "# using itertools.product()   \n",
        "# to compute all possible permutations \n",
        "res = list(itertools.product(*all_list)) \n",
        "  \n",
        "# printing result \n",
        "print (\"All possible permutations are : \" +  str(res))"
      ],
      "execution_count": 0,
      "outputs": [
        {
          "output_type": "stream",
          "text": [
            "The original lists are : [[0], [2, 3], [4, 5], [5, 6], [6, 7]]\n",
            "All possible permutations are : [(0, 2, 4, 5, 6), (0, 2, 4, 5, 7), (0, 2, 4, 6, 6), (0, 2, 4, 6, 7), (0, 2, 5, 5, 6), (0, 2, 5, 5, 7), (0, 2, 5, 6, 6), (0, 2, 5, 6, 7), (0, 3, 4, 5, 6), (0, 3, 4, 5, 7), (0, 3, 4, 6, 6), (0, 3, 4, 6, 7), (0, 3, 5, 5, 6), (0, 3, 5, 5, 7), (0, 3, 5, 6, 6), (0, 3, 5, 6, 7)]\n"
          ],
          "name": "stdout"
        }
      ]
    },
    {
      "metadata": {
        "id": "Bxy1aOgN597p",
        "colab_type": "code",
        "outputId": "b3577579-be46-4c3c-9684-2d40a1c632b0",
        "colab": {
          "base_uri": "https://localhost:8080/",
          "height": 34
        }
      },
      "cell_type": "code",
      "source": [
        "(1,2)+(1,)"
      ],
      "execution_count": 0,
      "outputs": [
        {
          "output_type": "execute_result",
          "data": {
            "text/plain": [
              "(1, 2, 1)"
            ]
          },
          "metadata": {
            "tags": []
          },
          "execution_count": 46
        }
      ]
    },
    {
      "metadata": {
        "id": "OrOGxj3oRGWg",
        "colab_type": "code",
        "outputId": "24fe5d72-d835-4902-91e3-9b3a215ca438",
        "colab": {
          "base_uri": "https://localhost:8080/",
          "height": 52
        }
      },
      "cell_type": "code",
      "source": [
        "for e in newdt[3]:\n",
        "  print(e + (2,))"
      ],
      "execution_count": 0,
      "outputs": [
        {
          "output_type": "stream",
          "text": [
            "(0, 3, 2)\n",
            "(1, 3, 2)\n"
          ],
          "name": "stdout"
        }
      ]
    },
    {
      "metadata": {
        "id": "SxuFm0JlV91x",
        "colab_type": "code",
        "colab": {}
      },
      "cell_type": "code",
      "source": [
        "numberOfElements = 50\n",
        "parent2ChildRelationTree = {}\n",
        "root2EdgePathTree = {}\n",
        "root2EdgePathWeightTree= {}\n",
        "\n",
        "\n",
        "import random\n",
        "inputWeights=[]\n",
        "treeNodeWeights=[]\n",
        "for x in range(numberOfElements):\n",
        "    inputWeights.append(random.randint(-10,10))\n",
        "\n",
        "print(inputWeights)\n",
        "\n",
        "treeNodeWeights=list(map(lambda x: 0 if x < 0 else x,inputWeights))\n",
        "print(treeNodeWeights)\n",
        "\n",
        "\n",
        "\n",
        "for ctr in range(numberOfElements):\n",
        "    # print('{}, {}, {}, {}'.format(ctr,ctr+2,ctr+3,numberOfElements))\n",
        "\n",
        "    if (ctr + 2) < numberOfElements:\n",
        "        if (ctr + 3) < numberOfElements:\n",
        "            parent2ChildRelationTree[ctr] = [ctr + 2, ctr + 3]\n",
        "\n",
        "            if (ctr + 2) not in root2EdgePathTree:\n",
        "                if ctr in root2EdgePathTree:\n",
        "                    root2EdgePathTree[ctr + 2] = []\n",
        "                    root2EdgePathWeightTree[ctr + 2]=[]\n",
        "                    for idx,elem in enumerate(root2EdgePathTree[ctr]):\n",
        "                        root2EdgePathTree[ctr + 2].append(elem + (ctr + 2,))\n",
        "                        root2EdgePathWeightTree[ctr + 2].append(root2EdgePathWeightTree[ctr][idx] + treeNodeWeights[ctr + 2])\n",
        "                else:\n",
        "                    root2EdgePathTree[ctr + 2] = [(ctr, ctr + 2)]\n",
        "                    root2EdgePathWeightTree[ctr + 2] = [treeNodeWeights[ctr] + treeNodeWeights[ctr + 2]]\n",
        "            else:\n",
        "                if ctr in root2EdgePathTree:\n",
        "                    for idx,elem in enumerate(root2EdgePathTree[ctr]):\n",
        "                        root2EdgePathTree[ctr + 2].append(elem + (ctr + 2,))\n",
        "                        root2EdgePathWeightTree[ctr + 2].append(root2EdgePathWeightTree[ctr][idx] + treeNodeWeights[ctr + 2])\n",
        "                else:\n",
        "                    root2EdgePathTree[ctr + 2].append((ctr, ctr + 2))\n",
        "                    root2EdgePathWeightTree[ctr + 2].append(treeNodeWeights[ctr] + treeNodeWeights[ctr + 2])\n",
        "\n",
        "            if (ctr + 3) not in root2EdgePathTree:\n",
        "                if ctr in root2EdgePathTree:\n",
        "                    root2EdgePathTree[ctr + 3] = []\n",
        "                    root2EdgePathWeightTree[ctr + 3] = []\n",
        "                    for idx,elem in enumerate(root2EdgePathTree[ctr]):\n",
        "                        root2EdgePathTree[ctr + 3].append(elem + (ctr + 3,))\n",
        "                        root2EdgePathWeightTree[ctr + 3].append(root2EdgePathWeightTree[ctr][idx] + treeNodeWeights[ctr + 3])\n",
        "                    del root2EdgePathTree[ctr]\n",
        "                    del root2EdgePathWeightTree[ctr]\n",
        "                else:\n",
        "                    root2EdgePathTree[ctr + 3] = [(ctr, ctr + 3)]\n",
        "                    root2EdgePathWeightTree[ctr + 3] = [treeNodeWeights[ctr] + treeNodeWeights[ctr + 3]]\n",
        "            else:\n",
        "                if ctr in root2EdgePathTree:\n",
        "                    for idx,elem in enumerate(root2EdgePathTree[ctr]):\n",
        "                        root2EdgePathTree[ctr + 3].append(elem + (ctr + 3,))\n",
        "                        root2EdgePathWeightTree[ctr + 3].append(root2EdgePathWeightTree[ctr][idx] + treeNodeWeights[ctr + 3])\n",
        "                    del root2EdgePathTree[ctr]\n",
        "                    del root2EdgePathWeightTree[ctr]\n",
        "                else:\n",
        "                    root2EdgePathTree[ctr + 3].append((ctr, ctr + 3))\n",
        "                    root2EdgePathWeightTree[ctr + 3].append(treeNodeWeights[ctr] + treeNodeWeights[ctr + 3])\n",
        "\n",
        "\n",
        "        else:\n",
        "            parent2ChildRelationTree[ctr] = [ctr + 2, -1]\n",
        "\n",
        "            if (ctr + 2) not in root2EdgePathTree:\n",
        "                if ctr in root2EdgePathTree:\n",
        "                    root2EdgePathTree[ctr + 2] = []\n",
        "                    root2EdgePathWeightTree[ctr + 2] = []\n",
        "                    for idx,elem in enumerate(root2EdgePathTree[ctr]):\n",
        "                        root2EdgePathTree[ctr + 2].append(elem + (ctr + 2,))\n",
        "                        root2EdgePathWeightTree[ctr + 2].append(root2EdgePathWeightTree[ctr][idx] + treeNodeWeights[ctr + 2])\n",
        "                    del root2EdgePathTree[ctr]\n",
        "                    del root2EdgePathWeightTree[ctr]\n",
        "                else:\n",
        "                    root2EdgePathTree[ctr + 2] = [(ctr, ctr + 2)]\n",
        "                    root2EdgePathWeightTree[ctr + 2] = [treeNodeWeights[ctr] + treeNodeWeights[ctr + 2]]\n",
        "            else:\n",
        "                if ctr in root2EdgePathTree:\n",
        "                    for idx,elem in enumerate(root2EdgePathTree[ctr]):\n",
        "                        root2EdgePathTree[ctr + 2].append(elem + (ctr + 2,))\n",
        "                        root2EdgePathWeightTree[ctr + 2].append(root2EdgePathWeightTree[ctr][idx] + treeNodeWeights[ctr + 2])\n",
        "                    del root2EdgePathTree[ctr]\n",
        "                    del root2EdgePathWeightTree[ctr]\n",
        "                else:\n",
        "                    root2EdgePathTree[ctr + 2].append((ctr, ctr + 2))\n",
        "                    root2EdgePathWeightTree[ctr + 2].append(treeNodeWeights[ctr] + treeNodeWeights[ctr + 2])\n",
        "\n",
        "maxWeightVal=0\n",
        "for val in root2EdgePathWeightTree.values():\n",
        "    if maxWeightVal < max(val):\n",
        "        maxWeightVal= max(val)\n",
        "\n",
        "print(maxWeightVal)\n",
        "\n",
        "root2EdgePathTreeMaxWeightOnly={}\n",
        "root2EdgePathWeightTreeMaxWeightOnly={}\n",
        "\n",
        "\n",
        "#print(parent2ChildRelationTree)\n",
        "#print(root2EdgePathTree)\n",
        "#print(root2EdgePathWeightTree)\n",
        "\n",
        "#print(parent2ChildRelationTree)\n",
        "\n",
        "#print(root2EdgePathTree)"
      ],
      "execution_count": 0,
      "outputs": []
    },
    {
      "metadata": {
        "id": "aSUq9tW5FjuV",
        "colab_type": "code",
        "outputId": "4f9920e5-f59a-4e43-af3b-6c273aa3b6e2",
        "colab": {
          "base_uri": "https://localhost:8080/",
          "height": 54
        }
      },
      "cell_type": "code",
      "source": [
        "numberOfElements = 50\n",
        "\n",
        "import random\n",
        "inputWeights=[]\n",
        "treeNodeWeights=[]\n",
        "for x in range(numberOfElements):\n",
        "    inputWeights.append(random.randint(-10,10))\n",
        "\n",
        "#print(inputWeights)\n",
        "\n",
        "\n",
        "\n",
        "def getMaxWeightPaths(inputWeights):\n",
        "  outMaxWeightPaths=[]\n",
        "  \n",
        "  numberOfElements=len(inputWeights)\n",
        "  parent2ChildRelationTree = {}\n",
        "  root2EdgePathTree = {}\n",
        "  root2EdgePathWeightTree= {}\n",
        "  treeNodeWeights=list(map(lambda x: 0 if x < 0 else x,inputWeights))\n",
        "  \n",
        "\n",
        "  for ctr in range(numberOfElements):\n",
        "      # print('{}, {}, {}, {}'.format(ctr,ctr+2,ctr+3,numberOfElements))\n",
        "\n",
        "      if (ctr + 2) < numberOfElements:\n",
        "          if (ctr + 3) < numberOfElements:\n",
        "              parent2ChildRelationTree[ctr] = [ctr + 2, ctr + 3]\n",
        "\n",
        "              if (ctr + 2) not in root2EdgePathTree:\n",
        "                  if ctr in root2EdgePathTree:\n",
        "                      root2EdgePathTree[ctr + 2] = []\n",
        "                      root2EdgePathWeightTree[ctr + 2]=[]\n",
        "                      for idx,elem in enumerate(root2EdgePathTree[ctr]):\n",
        "                          root2EdgePathTree[ctr + 2].append(elem + (ctr + 2,))\n",
        "                          root2EdgePathWeightTree[ctr + 2].append(\n",
        "                              root2EdgePathWeightTree[ctr][idx] + treeNodeWeights[ctr + 2])\n",
        "                  else:\n",
        "                      root2EdgePathTree[ctr + 2] = [(ctr, ctr + 2)]\n",
        "                      root2EdgePathWeightTree[ctr + 2] = [treeNodeWeights[ctr] \\\n",
        "                                                          + treeNodeWeights[ctr + 2]]\n",
        "              else:\n",
        "                  if ctr in root2EdgePathTree:\n",
        "                      for idx,elem in enumerate(root2EdgePathTree[ctr]):\n",
        "                          root2EdgePathTree[ctr + 2].append(elem + (ctr + 2,))\n",
        "                          root2EdgePathWeightTree[ctr + 2].append(\n",
        "                              root2EdgePathWeightTree[ctr][idx] + treeNodeWeights[ctr + 2])\n",
        "                  else:\n",
        "                      root2EdgePathTree[ctr + 2].append((ctr, ctr + 2))\n",
        "                      root2EdgePathWeightTree[ctr + 2].append(\n",
        "                          treeNodeWeights[ctr] + treeNodeWeights[ctr + 2])\n",
        "\n",
        "              if (ctr + 3) not in root2EdgePathTree:\n",
        "                  if ctr in root2EdgePathTree:\n",
        "                      root2EdgePathTree[ctr + 3] = []\n",
        "                      root2EdgePathWeightTree[ctr + 3] = []\n",
        "                      for idx,elem in enumerate(root2EdgePathTree[ctr]):\n",
        "                          root2EdgePathTree[ctr + 3].append(elem + (ctr + 3,))\n",
        "                          root2EdgePathWeightTree[ctr + 3].append(\n",
        "                              root2EdgePathWeightTree[ctr][idx] + treeNodeWeights[ctr + 3])\n",
        "                      del root2EdgePathTree[ctr]\n",
        "                      del root2EdgePathWeightTree[ctr]\n",
        "                  else:\n",
        "                      root2EdgePathTree[ctr + 3] = [(ctr, ctr + 3)]\n",
        "                      root2EdgePathWeightTree[ctr + 3] = [treeNodeWeights[ctr] \\\n",
        "                                                          + treeNodeWeights[ctr + 3]]\n",
        "              else:\n",
        "                  if ctr in root2EdgePathTree:\n",
        "                      for idx,elem in enumerate(root2EdgePathTree[ctr]):\n",
        "                          root2EdgePathTree[ctr + 3].append(elem + (ctr + 3,))\n",
        "                          root2EdgePathWeightTree[ctr + 3].append(\n",
        "                              root2EdgePathWeightTree[ctr][idx] + treeNodeWeights[ctr + 3])\n",
        "                      del root2EdgePathTree[ctr]\n",
        "                      del root2EdgePathWeightTree[ctr]\n",
        "                  else:\n",
        "                      root2EdgePathTree[ctr + 3].append((ctr, ctr + 3))\n",
        "                      root2EdgePathWeightTree[ctr + 3].append(\n",
        "                          treeNodeWeights[ctr] + treeNodeWeights[ctr + 3])\n",
        "\n",
        "\n",
        "          else:\n",
        "              parent2ChildRelationTree[ctr] = [ctr + 2, -1]\n",
        "\n",
        "              if (ctr + 2) not in root2EdgePathTree:\n",
        "                  if ctr in root2EdgePathTree:\n",
        "                      root2EdgePathTree[ctr + 2] = []\n",
        "                      root2EdgePathWeightTree[ctr + 2] = []\n",
        "                      for idx,elem in enumerate(root2EdgePathTree[ctr]):\n",
        "                          root2EdgePathTree[ctr + 2].append(elem + (ctr + 2,))\n",
        "                          root2EdgePathWeightTree[ctr + 2].append(\n",
        "                              root2EdgePathWeightTree[ctr][idx] + treeNodeWeights[ctr + 2])\n",
        "                      del root2EdgePathTree[ctr]\n",
        "                      del root2EdgePathWeightTree[ctr]\n",
        "                  else:\n",
        "                      root2EdgePathTree[ctr + 2] = [(ctr, ctr + 2)]\n",
        "                      root2EdgePathWeightTree[ctr + 2] = [treeNodeWeights[ctr] \\\n",
        "                                                          + treeNodeWeights[ctr + 2]]\n",
        "              else:\n",
        "                  if ctr in root2EdgePathTree:\n",
        "                      for idx,elem in enumerate(root2EdgePathTree[ctr]):\n",
        "                          root2EdgePathTree[ctr + 2].append(elem + (ctr + 2,))\n",
        "                          root2EdgePathWeightTree[ctr + 2].append(\n",
        "                              root2EdgePathWeightTree[ctr][idx] + treeNodeWeights[ctr + 2])\n",
        "                      del root2EdgePathTree[ctr]\n",
        "                      del root2EdgePathWeightTree[ctr]\n",
        "                  else:\n",
        "                      root2EdgePathTree[ctr + 2].append((ctr, ctr + 2))\n",
        "                      root2EdgePathWeightTree[ctr + 2].append(\n",
        "                          treeNodeWeights[ctr] + treeNodeWeights[ctr + 2])\n",
        "\n",
        "  maxWeightVal=0\n",
        "  for val in root2EdgePathWeightTree.values():\n",
        "      if maxWeightVal < max(val):\n",
        "          maxWeightVal= max(val)\n",
        "\n",
        "\n",
        "  root2EdgePathTreeMaxWeightOnly=[]\n",
        "\n",
        "  for key,value in root2EdgePathWeightTree.items():\n",
        "      for idx,val in enumerate(value):\n",
        "          if val==maxWeightVal:\n",
        "              root2EdgePathTreeMaxWeightOnly.append(root2EdgePathTree[key][idx])\n",
        "              weightList=()\n",
        "              for wl in root2EdgePathTree[key][idx]:\n",
        "                if inputWeights[wl] > 0:\n",
        "                  weightList=weightList+(inputWeights[wl],)\n",
        "              outMaxWeightPaths.append(weightList)\n",
        "  \n",
        "  \n",
        "  #outMaxWeightPaths=root2EdgePathTreeMaxWeightOnly\n",
        "  \n",
        "  return outMaxWeightPaths\n",
        "\n",
        "\n",
        "\n",
        "x=getMaxWeightPaths(inputWeights)\n",
        "print(x)\n",
        "\n",
        "\n",
        "\n",
        "\n",
        "#print(parent2ChildRelationTree)\n",
        "#print(root2EdgePathTree)\n",
        "#print(root2EdgePathWeightTree)\n",
        "\n",
        "#print(parent2ChildRelationTree)\n",
        "\n",
        "#print(root2EdgePathTree)"
      ],
      "execution_count": 0,
      "outputs": [
        {
          "output_type": "stream",
          "text": [
            "[(10, 7, 10, 1, 8, 10, 7, 10, 5, 10, 10, 1, 5, 7), (10, 7, 10, 1, 8, 10, 7, 10, 5, 10, 10, 1, 5, 7), (10, 7, 10, 1, 8, 10, 7, 10, 5, 10, 10, 1, 5, 7), (10, 7, 10, 1, 8, 10, 7, 10, 5, 10, 10, 1, 5, 7), (10, 7, 10, 1, 8, 10, 7, 10, 5, 10, 10, 1, 5, 7), (10, 7, 10, 1, 8, 10, 7, 10, 5, 10, 10, 1, 5, 7), (10, 7, 10, 1, 8, 10, 7, 10, 5, 10, 10, 1, 5, 7), (10, 7, 10, 1, 8, 10, 7, 10, 5, 10, 10, 1, 5, 7), (10, 7, 10, 1, 8, 10, 7, 10, 5, 10, 10, 1, 5, 7), (10, 7, 10, 1, 8, 10, 7, 10, 5, 10, 10, 1, 5, 7), (10, 7, 10, 1, 8, 10, 7, 10, 5, 10, 10, 1, 5, 7), (10, 7, 10, 1, 8, 10, 7, 10, 5, 10, 10, 1, 5, 7), (10, 7, 10, 1, 8, 10, 7, 10, 5, 10, 10, 1, 5, 7), (10, 7, 10, 1, 8, 10, 7, 10, 5, 10, 10, 1, 5, 7), (10, 7, 10, 1, 8, 10, 7, 10, 5, 10, 10, 1, 5, 7), (10, 7, 10, 1, 8, 10, 7, 10, 5, 10, 10, 1, 5, 7), (10, 7, 10, 1, 8, 10, 7, 10, 5, 10, 10, 1, 5, 7), (10, 7, 10, 1, 8, 10, 7, 10, 5, 10, 10, 1, 5, 7), (10, 7, 10, 1, 8, 10, 7, 10, 5, 10, 10, 1, 5, 7), (10, 7, 10, 1, 8, 10, 7, 10, 5, 10, 10, 1, 5, 7), (10, 7, 10, 1, 8, 10, 7, 10, 5, 10, 10, 1, 5, 7), (10, 7, 10, 1, 8, 10, 7, 10, 5, 10, 10, 1, 5, 7), (10, 7, 10, 1, 8, 10, 7, 10, 5, 10, 10, 1, 5, 7), (10, 7, 10, 1, 8, 10, 7, 10, 5, 10, 10, 1, 5, 7), (10, 7, 10, 1, 8, 10, 7, 10, 5, 10, 10, 1, 5, 7), (10, 7, 10, 1, 8, 10, 7, 10, 5, 10, 10, 1, 5, 7), (10, 7, 10, 1, 8, 10, 7, 10, 5, 10, 10, 1, 5, 7), (10, 7, 10, 1, 8, 10, 7, 10, 5, 10, 10, 1, 5, 7), (10, 7, 10, 1, 8, 10, 7, 10, 5, 10, 10, 1, 5, 7), (10, 7, 10, 1, 8, 10, 7, 10, 5, 10, 10, 1, 5, 7), (10, 7, 10, 1, 8, 10, 7, 10, 5, 10, 10, 1, 5, 7), (10, 7, 10, 1, 8, 10, 7, 10, 5, 10, 10, 1, 5, 7), (10, 7, 10, 1, 8, 10, 7, 10, 5, 10, 10, 1, 5, 7), (10, 7, 10, 1, 8, 10, 7, 10, 5, 10, 10, 1, 5, 7), (10, 7, 10, 1, 8, 10, 7, 10, 5, 10, 10, 1, 5, 7), (10, 7, 10, 1, 8, 10, 7, 10, 5, 10, 10, 1, 5, 7), (10, 7, 10, 1, 8, 10, 7, 10, 5, 10, 10, 1, 5, 7), (10, 7, 10, 1, 8, 10, 7, 10, 5, 10, 10, 1, 5, 7), (10, 7, 10, 1, 8, 10, 7, 10, 5, 10, 10, 1, 5, 7), (10, 7, 10, 1, 8, 10, 7, 10, 5, 10, 10, 1, 5, 7), (10, 7, 10, 1, 8, 10, 7, 10, 5, 10, 10, 1, 5, 7), (10, 7, 10, 1, 8, 10, 7, 10, 5, 10, 10, 1, 5, 7), (10, 7, 10, 1, 8, 10, 7, 10, 5, 10, 10, 1, 5, 7), (10, 7, 10, 1, 8, 10, 7, 10, 5, 10, 10, 1, 5, 7), (10, 7, 10, 1, 8, 10, 7, 10, 5, 10, 10, 1, 5, 7), (10, 7, 10, 1, 8, 10, 7, 10, 5, 10, 10, 1, 5, 7), (10, 7, 10, 1, 8, 10, 7, 10, 5, 10, 10, 1, 5, 7), (10, 7, 10, 1, 8, 10, 7, 10, 5, 10, 10, 1, 5, 7), (10, 7, 10, 1, 8, 10, 7, 10, 5, 10, 10, 1, 5, 7), (10, 7, 10, 1, 8, 10, 7, 10, 5, 10, 10, 1, 5, 7), (10, 7, 10, 1, 8, 10, 7, 10, 5, 10, 10, 1, 5, 7), (10, 7, 10, 1, 8, 10, 7, 10, 5, 10, 10, 1, 5, 7), (10, 7, 10, 1, 8, 10, 7, 10, 5, 10, 10, 1, 5, 7), (10, 7, 10, 1, 8, 10, 7, 10, 5, 10, 10, 1, 5, 7), (10, 7, 10, 1, 8, 10, 7, 10, 5, 10, 10, 1, 5, 7), (10, 7, 10, 1, 8, 10, 7, 10, 5, 10, 10, 1, 5, 7), (10, 7, 10, 1, 8, 10, 7, 10, 5, 10, 10, 1, 5, 7), (10, 7, 10, 1, 8, 10, 7, 10, 5, 10, 10, 1, 5, 7), (10, 7, 10, 1, 8, 10, 7, 10, 5, 10, 10, 1, 5, 7), (10, 7, 10, 1, 8, 10, 7, 10, 5, 10, 10, 1, 5, 7), (10, 7, 10, 1, 8, 10, 7, 10, 5, 10, 10, 1, 5, 7), (10, 7, 10, 1, 8, 10, 7, 10, 5, 10, 10, 1, 5, 7), (10, 7, 10, 1, 8, 10, 7, 10, 5, 10, 10, 1, 5, 7), (10, 7, 10, 1, 8, 10, 7, 10, 5, 10, 10, 1, 5, 7), (10, 7, 10, 1, 8, 10, 7, 10, 5, 10, 10, 1, 5, 7), (10, 7, 10, 1, 8, 10, 7, 10, 5, 10, 10, 1, 5, 7), (10, 7, 10, 1, 8, 10, 7, 10, 5, 10, 10, 1, 5, 7), (10, 7, 10, 1, 8, 10, 7, 10, 5, 10, 10, 1, 5, 7), (10, 7, 10, 1, 8, 10, 7, 10, 5, 10, 10, 1, 5, 7), (10, 7, 10, 1, 8, 10, 7, 10, 5, 10, 10, 1, 5, 7), (10, 7, 10, 1, 8, 10, 7, 10, 5, 10, 10, 1, 5, 7), (10, 7, 10, 1, 8, 10, 7, 10, 5, 10, 10, 1, 5, 7), (10, 7, 10, 1, 8, 10, 7, 10, 5, 10, 10, 1, 5, 7), (10, 7, 10, 1, 8, 10, 7, 10, 5, 10, 10, 1, 5, 7), (10, 7, 10, 1, 8, 10, 7, 10, 5, 10, 10, 1, 5, 7), (10, 7, 10, 1, 8, 10, 7, 10, 5, 10, 10, 1, 5, 7), (10, 7, 10, 1, 8, 10, 7, 10, 5, 10, 10, 1, 5, 7), (10, 7, 10, 1, 8, 10, 7, 10, 5, 10, 10, 1, 5, 7), (10, 7, 10, 1, 8, 10, 7, 10, 5, 10, 10, 1, 5, 7), (10, 7, 10, 1, 8, 10, 7, 10, 5, 10, 10, 1, 5, 7)]\n"
          ],
          "name": "stdout"
        }
      ]
    },
    {
      "metadata": {
        "id": "nFf5WNnoLLXM",
        "colab_type": "code",
        "colab": {}
      },
      "cell_type": "code",
      "source": [
        "# ''' Read input from STDIN. Print your output to STDOUT '''\n",
        "    #Use input() to read input from STDIN and use print to write your output to STDOUT\n",
        "\n",
        "def main():\n",
        "\n",
        "    # Write code here \n",
        "    NumOfTestCases = int(input())\n",
        "\n",
        "    for ctr in range(NumOfTestCases):\n",
        "        numOfHousesInput=input()\n",
        "        #print(numOfHousesInput)\n",
        "        numOfHouses=int(numOfHousesInput.strip())\n",
        "\n",
        "        ticketTokenNumbers=input()\n",
        "        #print(ticketTokenNumbers.strip())\n",
        "        ticketTokenNumbersList=[int(tokenNum) for tokenNum in ticketTokenNumbers.strip().split(' ')]\n",
        "        \n",
        "                           \n",
        "main()"
      ],
      "execution_count": 0,
      "outputs": []
    },
    {
      "metadata": {
        "id": "sPt_4wR3VW7n",
        "colab_type": "code",
        "colab": {}
      },
      "cell_type": "code",
      "source": [
        "a=[1,2,3,4,5]"
      ],
      "execution_count": 0,
      "outputs": []
    },
    {
      "metadata": {
        "id": "UigKd_w3VYws",
        "colab_type": "code",
        "colab": {}
      },
      "cell_type": "code",
      "source": [
        "def find_max_sum(arr): \n",
        "    incl = 0\n",
        "    excl = 0\n",
        "    \n",
        "    exclSrcList=[]\n",
        "    \n",
        "    for idx,i in enumerate(arr):        \n",
        "        #new_excl = excl if excl>incl else incl \n",
        "        \n",
        "        if excl == incl:\n",
        "            new_excl=excl\n",
        "            if idx ==0:\n",
        "              exclSrcList.append((i,(-3,-1)))\n",
        "            else:\n",
        "              exclSrcList.append((arr[idx-1],(-2,exclSrcList[idx-1][1][1])))\n",
        "        elif excl > incl:\n",
        "            new_excl=excl\n",
        "            exclSrcList.append((-1,(-1,exclSrcList[idx-1][1][1])))\n",
        "        else:\n",
        "            new_excl=incl\n",
        "            exclSrcList.append((i,(0,arr[idx-1])))\n",
        "        \n",
        "        # Current max including i \n",
        "        incl = excl + i \n",
        "        excl = new_excl \n",
        "    \n",
        "        print('incl: {},excl: {}'.format(incl,excl))\n",
        "    \n",
        "    print(exclSrcList)\n",
        "    outStr=''\n",
        "    exclWt=excl\n",
        "    inclWt=incl\n",
        "    \n",
        "    ctr=len(exclSrcList)-1\n",
        "    \n",
        "    while ctr > 0:\n",
        "      \n",
        "      print('inclWt: {},exclWt: {}'.format(inclWt,exclWt))\n",
        "      \n",
        "      if exclWt == inclWt:\n",
        "        pass\n",
        "      elif exclWt > inclWt:\n",
        "        if exclSrcList[ctr][1][0] == 0:\n",
        "          outStr=outStr+str(exclSrcList[ctr][1][1])\n",
        "          ctr-=1\n",
        "      else:\n",
        "        if ctr==len(exclSrcList)-1:\n",
        "          outStr=outStr+str(exclSrcList[ctr][0])\n",
        "        else:\n",
        "          outStr=outStr+str(exclSrcList[ctr][0])\n",
        "          ctr-=1\n",
        "      \n",
        "      exclWt=exclSrcList[ctr-1][1][1]\n",
        "      inclWt=exclSrcList[ctr-1][0]\n",
        "      \n",
        "      print(exclSrcList[ctr])\n",
        "      ctr-=1\n",
        "    \n",
        "    \n",
        "      print('hello '+outStr)\n",
        "    # return max of incl and excl \n",
        "    return (excl if excl>incl else incl) "
      ],
      "execution_count": 0,
      "outputs": []
    },
    {
      "metadata": {
        "id": "Qec9LUJ-VcXA",
        "colab_type": "code",
        "outputId": "f2422b14-3b9c-45c8-f087-5b3e1a9b7082",
        "colab": {
          "base_uri": "https://localhost:8080/",
          "height": 298
        }
      },
      "cell_type": "code",
      "source": [
        "a=[1,2,1,4,5]\n",
        "find_max_sum(a)"
      ],
      "execution_count": 0,
      "outputs": [
        {
          "output_type": "stream",
          "text": [
            "incl: 1,excl: 0\n",
            "incl: 2,excl: 1\n",
            "incl: 2,excl: 2\n",
            "incl: 6,excl: 2\n",
            "incl: 7,excl: 6\n",
            "[(1, (-3, -1)), (2, (0, 1)), (1, (0, 2)), (1, (-2, 2)), (5, (0, 4))]\n",
            "inclWt: 7,exclWt: 6\n",
            "(5, (0, 4))\n",
            "hello 5\n",
            "inclWt: 1,exclWt: 2\n",
            "(1, (-2, 2))\n",
            "hello 5\n",
            "inclWt: 1,exclWt: 2\n",
            "(2, (0, 1))\n",
            "hello 52\n"
          ],
          "name": "stdout"
        },
        {
          "output_type": "execute_result",
          "data": {
            "text/plain": [
              "7"
            ]
          },
          "metadata": {
            "tags": []
          },
          "execution_count": 5
        }
      ]
    },
    {
      "metadata": {
        "id": "7OIsK_lYyb3I",
        "colab_type": "code",
        "colab": {}
      },
      "cell_type": "code",
      "source": [
        "b=[(1, (-3, -1)), (2, (0, 1)), (1, (0, 2)), (1, (-2, 2)), (5, (0, 4))]"
      ],
      "execution_count": 0,
      "outputs": []
    },
    {
      "metadata": {
        "id": "nSoDyXQOyCd3",
        "colab_type": "code",
        "colab": {}
      },
      "cell_type": "code",
      "source": [
        "def by2(l):\n",
        "  if len(l)==2:\n",
        "    return [2]\n",
        "  print(l)\n",
        "  del l[-1]\n",
        "  for e in by2(l):    \n",
        "    return [e]"
      ],
      "execution_count": 0,
      "outputs": []
    },
    {
      "metadata": {
        "id": "zz4O5Te941Xi",
        "colab_type": "code",
        "outputId": "2d7c5a15-796c-4302-804f-74773472fe87",
        "colab": {
          "base_uri": "https://localhost:8080/",
          "height": 70
        }
      },
      "cell_type": "code",
      "source": [
        "c=[1,2,3,4]\n",
        "list(by2(c))"
      ],
      "execution_count": 0,
      "outputs": [
        {
          "output_type": "stream",
          "text": [
            "[1, 2, 3, 4]\n",
            "[1, 2, 3]\n"
          ],
          "name": "stdout"
        },
        {
          "output_type": "execute_result",
          "data": {
            "text/plain": [
              "[2]"
            ]
          },
          "metadata": {
            "tags": []
          },
          "execution_count": 48
        }
      ]
    },
    {
      "metadata": {
        "id": "-eFy__VQVd5_",
        "colab_type": "code",
        "outputId": "9448e297-e4d3-42f1-b2ba-c4df8c8660f9",
        "colab": {
          "base_uri": "https://localhost:8080/",
          "height": 193
        }
      },
      "cell_type": "code",
      "source": [
        "ctr=10\n",
        "while ctr > 0:\n",
        "  \n",
        "  ctr-=1\n",
        "  print(ctr)"
      ],
      "execution_count": 0,
      "outputs": [
        {
          "output_type": "stream",
          "text": [
            "9\n",
            "8\n",
            "7\n",
            "6\n",
            "5\n",
            "4\n",
            "3\n",
            "2\n",
            "1\n",
            "0\n"
          ],
          "name": "stdout"
        }
      ]
    },
    {
      "metadata": {
        "id": "ATjsNY7noqli",
        "colab_type": "code",
        "colab": {}
      },
      "cell_type": "code",
      "source": [
        "def find_max_sum(arr): \n",
        "    incl = 0\n",
        "    excl = 0\n",
        "    \n",
        "    exclSrcList=[]\n",
        "    \n",
        "    for idx,i in enumerate(arr):        \n",
        "        #new_excl = excl if excl>incl else incl \n",
        "        \n",
        "        if excl == incl:\n",
        "            new_excl=excl\n",
        "            if idx ==0:\n",
        "              exclSrcList.append((-3,(i,-1)))\n",
        "            else:\n",
        "              exclSrcList.append((-2,(arr[idx-1],exclSrcList[idx-1][1][1])))\n",
        "              \n",
        "              \n",
        "              if arr[idx-1]==exclSrcList[idx-1][1][1]:\n",
        "                exclSrcList.append((-2,(arr[idx-1],exclSrcList[idx-1][1][1])))\n",
        "              \n",
        "        elif excl > incl:\n",
        "            new_excl=excl\n",
        "            exclSrcList.append((-1,(-1,exclSrcList[idx-1][1][1])))\n",
        "        else:\n",
        "            new_excl=incl\n",
        "            exclSrcList.append((0,(i,arr[idx-1])))\n",
        "        \n",
        "        # Current max including i \n",
        "        incl = excl + i \n",
        "        excl = new_excl \n",
        "    \n",
        "        print('curr: {},incl: {},excl: {}'.format(i,incl,excl))\n",
        "    \n",
        "    print(exclSrcList)\n",
        "    outStr=''\n",
        "    exclWt=excl\n",
        "    inclWt=incl\n",
        "    \n",
        "    ctr=len(exclSrcList)-1\n",
        "    \n",
        "    while ctr > 0:\n",
        "      \n",
        "      print('inclWt: {},exclWt: {}'.format(inclWt,exclWt))\n",
        "      \n",
        "      if exclWt == inclWt:\n",
        "        pass\n",
        "      elif exclWt > inclWt:\n",
        "        if exclSrcList[ctr][1][0] == 0:\n",
        "          outStr=outStr+str(exclSrcList[ctr][1][1])\n",
        "          ctr-=1\n",
        "      else:\n",
        "        if ctr==len(exclSrcList)-1:\n",
        "          outStr=outStr+str(exclSrcList[ctr][0])\n",
        "        else:\n",
        "          outStr=outStr+str(exclSrcList[ctr][0])\n",
        "          ctr-=1\n",
        "      \n",
        "      exclWt=exclSrcList[ctr-1][1][1]\n",
        "      inclWt=exclSrcList[ctr-1][1][0]\n",
        "      \n",
        "      print(exclSrcList[ctr])\n",
        "      ctr-=1\n",
        "    \n",
        "    \n",
        "      print('hello '+outStr)\n",
        "    # return max of incl and excl \n",
        "    return (excl if excl>incl else incl)"
      ],
      "execution_count": 0,
      "outputs": []
    },
    {
      "metadata": {
        "id": "gsfjlWTqecGX",
        "colab_type": "code",
        "colab": {
          "base_uri": "https://localhost:8080/",
          "height": 340
        },
        "outputId": "d59d4e7e-bfa6-4d40-b7a1-4a42868c6963"
      },
      "cell_type": "code",
      "source": [
        "\n",
        "c=[1,2,1,4,5]\n",
        "\n",
        "find_max_sum(c)"
      ],
      "execution_count": 7,
      "outputs": [
        {
          "output_type": "stream",
          "text": [
            "curr: 1,incl: 1,excl: 0\n",
            "curr: 2,incl: 2,excl: 1\n",
            "curr: 1,incl: 2,excl: 2\n",
            "curr: 4,incl: 6,excl: 2\n",
            "curr: 5,incl: 7,excl: 6\n",
            "[(-3, (1, -1)), (0, (2, 1)), (0, (1, 2)), (-2, (1, 2)), (0, (5, 4))]\n",
            "inclWt: 7,exclWt: 6\n",
            "(0, (5, 4))\n",
            "hello 0\n",
            "inclWt: 1,exclWt: 2\n",
            "(-2, (1, 2))\n",
            "hello 0\n",
            "inclWt: 1,exclWt: 2\n",
            "(0, (1, 2))\n",
            "hello 0\n",
            "inclWt: 2,exclWt: 1\n",
            "(-3, (1, -1))\n",
            "hello 00\n"
          ],
          "name": "stdout"
        },
        {
          "output_type": "execute_result",
          "data": {
            "text/plain": [
              "7"
            ]
          },
          "metadata": {
            "tags": []
          },
          "execution_count": 7
        }
      ]
    },
    {
      "metadata": {
        "id": "BgVJZ7ewefsB",
        "colab_type": "code",
        "colab": {
          "base_uri": "https://localhost:8080/",
          "height": 34
        },
        "outputId": "e323733a-3d70-45c3-cacb-8a3dd716117d"
      },
      "cell_type": "code",
      "source": [
        "def choosePastWithBiggerWeight(inptlst):\n",
        "  outstr=[[],[]]\n",
        "  \n",
        "  \n",
        "  for b in range(2):\n",
        "    l=inptlst.copy()\n",
        "    while l:\n",
        "\n",
        "      if b==0:\n",
        "        #outstr=str(l[-1][1][0])+outstr\n",
        "        outstr[b].append(l[-1][1][0])\n",
        "        del l[-1]\n",
        "        if l:\n",
        "          del l[-1]\n",
        "      else:\n",
        "        currcode=l[-1][0]\n",
        "        if currcode==0:\n",
        "          #outstr=str(l[-1][1][1])+outstr\n",
        "          outstr[b].append(l[-1][1][1])\n",
        "          del l[-1]\n",
        "        del l[-1]\n",
        "      \n",
        "  #print(list()\n",
        "  \n",
        "  for (x,y) in zip(outstr[0],outstr[1]):\n",
        "    if x==y:\n",
        "      pass\n",
        "    elif x < y:\n",
        "      return 1\n",
        "    else:\n",
        "      return 0\n",
        "  \n",
        "  if len(outstr[0]) < outstr[1]:\n",
        "    return 1\n",
        "   \n",
        "  return 0\n",
        " \n",
        "  \n",
        "def getPastWithBiggerWeight(inptlst,startwith):\n",
        "  outstr=[[],[]]\n",
        "  \n",
        "  \n",
        "  for b in range(2):\n",
        "    l=inptlst.copy()\n",
        "    while l:\n",
        "\n",
        "      if b==0:\n",
        "        #outstr=str(l[-1][1][0])+outstr\n",
        "        outstr[b].append(l[-1][1][0])\n",
        "        del l[-1]\n",
        "        if l:\n",
        "          del l[-1]\n",
        "      else:\n",
        "        currcode=l[-1][0]\n",
        "        if currcode==0:\n",
        "          #outstr=str(l[-1][1][1])+outstr\n",
        "          outstr[b].append(l[-1][1][1])\n",
        "          del l[-1]\n",
        "        del l[-1]\n",
        "      \n",
        "  #print(list()\n",
        "  \n",
        "  for (x,y) in zip(outstr[0],outstr[1]):\n",
        "    if x==y:\n",
        "      pass\n",
        "    elif x < y:\n",
        "      return 1\n",
        "    else:\n",
        "      return 0\n",
        "  \n",
        "  if len(outstr[0]) < outstr[1]:\n",
        "    return 1\n",
        "   \n",
        "  return 0  \n",
        "\n",
        "n=[(-3, (1, -1)), (0, (2, 1)), (0, (1, 2)), (-2, (1, 2))]\n",
        "m=[(-3, (1, -1)), (0, (2, 1)), (0, (1, 2)), (-2, (1, 2))]\n",
        "aa(n,1)\n",
        "#print(aa(n,0))\n",
        "      \n",
        "      \n",
        "      \n",
        "     "
      ],
      "execution_count": 42,
      "outputs": [
        {
          "output_type": "execute_result",
          "data": {
            "text/plain": [
              "1"
            ]
          },
          "metadata": {
            "tags": []
          },
          "execution_count": 42
        }
      ]
    },
    {
      "metadata": {
        "id": "lTXOXqlgsnlu",
        "colab_type": "code",
        "colab": {
          "base_uri": "https://localhost:8080/",
          "height": 34
        },
        "outputId": "4905bb96-7936-47b3-a6f5-61042ebc1982"
      },
      "cell_type": "code",
      "source": [
        "some_guy = 1\n",
        "\n",
        "first_names = []\n",
        "first_names.append(some_guy)\n",
        "\n",
        "another_list_of_names = first_names\n",
        "another_list_of_names.append(3)\n",
        "some_guy = some_guy*5\n",
        "\n",
        "print (some_guy, first_names, another_list_of_names)"
      ],
      "execution_count": 24,
      "outputs": [
        {
          "output_type": "stream",
          "text": [
            "5 [1, 3] [1, 3]\n"
          ],
          "name": "stdout"
        }
      ]
    },
    {
      "metadata": {
        "id": "1Fm1XKnCWbU-",
        "colab_type": "code",
        "colab": {
          "base_uri": "https://localhost:8080/",
          "height": 34
        },
        "outputId": "74f2998f-f175-47f9-a4d6-c5e57303edbd"
      },
      "cell_type": "code",
      "source": [
        "def choosePastWithBiggerWeight(inptlst,startWith=2):\n",
        "  pathWeightTracker=[[],[]]\n",
        "  outPath=['','']\n",
        "  \n",
        "  for start in range(2):\n",
        "    l=inptlst.copy()\n",
        "    \n",
        "    if startWith < 2:\n",
        "      start=startWith\n",
        "    \n",
        "    initFlag=1\n",
        "    \n",
        "    while l:\n",
        "      if start==0:\n",
        "        #if l[-1][1][0] > 0:\n",
        "        if initFlag==1:\n",
        "          if ((sum(pathWeightTracker[start])+ l[-1][1][0]) > sum(pathWeightTracker[start])) or len(pathWeightTracker[start]) == 0:\n",
        "            pathWeightTracker[start].append(l[-1][1][0])\n",
        "            outPath[start]=outPath[start]+str(l[-1][1][0])\n",
        "        else:\n",
        "          if ((sum(pathWeightTracker[start])+ l[-1][1][1]) > sum(pathWeightTracker[start])) or len(pathWeightTracker[start]) == 0:\n",
        "            pathWeightTracker[start].append(l[-1][1][1])\n",
        "            outPath[start]=outPath[start]+str(l[-1][1][1])\n",
        "        del l[-1]\n",
        "        if l:\n",
        "          del l[-1]\n",
        "      else:\n",
        "        currcode=l[-1][0]\n",
        "        if currcode==0:\n",
        "          if ((sum(pathWeightTracker[start])+ l[-1][1][1]) > sum(pathWeightTracker[start])) or len(pathWeightTracker[start]) == 0:\n",
        "            pathWeightTracker[start].append(l[-1][1][1])\n",
        "            outPath[start]=outPath[start]+str(l[-1][1][1])\n",
        "          del l[-1]\n",
        "        if l:\n",
        "          del l[-1]\n",
        "      initFlag=0\n",
        "    \n",
        "    if startWith < 2:\n",
        "      break\n",
        "  \n",
        "  for (x,y) in zip(pathWeightTracker[0],pathWeightTracker[1]):\n",
        "    if x==y:\n",
        "      pass\n",
        "    elif x < y:\n",
        "      return (1,outPath[1])\n",
        "    else:\n",
        "      return (0,outPath[0])\n",
        "  \n",
        "  if len(pathWeightTracker[0]) < len(pathWeightTracker[1]):\n",
        "    return (1,outPath[1])\n",
        "   \n",
        "  return (0,outPath[0])\n",
        "\n",
        "c=[3, 2, 1, -1]\n",
        "n=[(-3, (1, -1)), (0, (2, 1)), (0, (1, 2)), (-2, (1, 2))]\n",
        "m=[(-3, (3, -1)), (0, (2, 3)), (-1, (1, 3)), (0, (-1, 1))]\n",
        "ll=[(-3, (-1, -1)), (0, (-2, -1)), (-1, (-1, -1)), (-1, (-1, -1))]\n",
        "print(choosePastWithBiggerWeight(ll,1))"
      ],
      "execution_count": 148,
      "outputs": [
        {
          "output_type": "stream",
          "text": [
            "(1, '-1')\n"
          ],
          "name": "stdout"
        }
      ]
    },
    {
      "metadata": {
        "id": "laQSnjZyewZW",
        "colab_type": "code",
        "colab": {}
      },
      "cell_type": "code",
      "source": [
        "def find_max_sum(arr): \n",
        "    incl = 0\n",
        "    excl = 0\n",
        "    \n",
        "    exclSrcList=[]\n",
        "    \n",
        "    for idx,i in enumerate(arr):        \n",
        "        \n",
        "        if excl == incl:\n",
        "            new_excl=excl\n",
        "            \n",
        "            if idx ==0:\n",
        "              exclSrcList.append((-3,(i,-1)))\n",
        "              \n",
        "            else:\n",
        "              if arr[idx-1] < exclSrcList[idx-1][1][1]:\n",
        "                exclSrcList.append((-1,(-1,exclSrcList[idx-1][1][1])))\n",
        "              elif arr[idx-1] > exclSrcList[idx-1][1][1]:\n",
        "                exclSrcList.append((0,(i,i)))\n",
        "              else:\n",
        "                tempList=exclSrcList.copy()\n",
        "                tempList.append((-2,(arr[idx-1],exclSrcList[idx-1][1][1])))\n",
        "                \n",
        "                if choosePastWithBiggerWeight(tempList)[0] == 1:\n",
        "                  exclSrcList.append((-1,(-1,exclSrcList[idx-1][1][1])))\n",
        "                else:\n",
        "                  exclSrcList.append((0,(i,i)))\n",
        "                  \n",
        "        elif excl > incl:\n",
        "            new_excl=excl\n",
        "            if idx ==1:\n",
        "              new_excl=incl\n",
        "              exclSrcList.append((0,(i,arr[idx-1])))\n",
        "            else:\n",
        "              exclSrcList.append((-1,(i,exclSrcList[idx-1][1][1])))\n",
        "        else:\n",
        "            new_excl=incl\n",
        "            exclSrcList.append((0,(i,i)))\n",
        "        \n",
        "        # Current max including i \n",
        "        incl = excl + i \n",
        "        excl = new_excl \n",
        "    \n",
        "        #print('curr: {},incl: {},excl: {}'.format(i,incl,excl))\n",
        "    \n",
        "    \n",
        "    \n",
        "    \n",
        "    outStr=''\n",
        "    exclWt=excl\n",
        "    inclWt=incl\n",
        "    \n",
        "    \n",
        "    if excl > incl:\n",
        "      #exclSrcList.append((-1,(-1,exclSrcList[idx-1][1][1])))\n",
        "      #print(exclSrcList)\n",
        "      return (choosePastWithBiggerWeight(exclSrcList,1)[1])\n",
        "    elif excl < incl:\n",
        "      #exclSrcList.append((0,(i,arr[idx-1])))\n",
        "      #print(exclSrcList)\n",
        "      return (choosePastWithBiggerWeight(exclSrcList,0)[1])\n",
        "    else:\n",
        "      return (choosePastWithBiggerWeight(exclSrcList)[1])\n"
      ],
      "execution_count": 0,
      "outputs": []
    },
    {
      "metadata": {
        "id": "zWtytw65i8go",
        "colab_type": "code",
        "colab": {
          "base_uri": "https://localhost:8080/",
          "height": 34
        },
        "outputId": "b10a99a2-8ba2-4eeb-e94d-29dcfa720165"
      },
      "cell_type": "code",
      "source": [
        "c=[-1, 7, 8, -5, 4]\n",
        "\n",
        "\n",
        "n=[-1,-2,-1,-1]\n",
        "\n",
        "find_max_sum(n)"
      ],
      "execution_count": 173,
      "outputs": [
        {
          "output_type": "execute_result",
          "data": {
            "text/plain": [
              "'-1'"
            ]
          },
          "metadata": {
            "tags": []
          },
          "execution_count": 173
        }
      ]
    },
    {
      "metadata": {
        "id": "F7_9Swwpi9GB",
        "colab_type": "code",
        "colab": {
          "base_uri": "https://localhost:8080/",
          "height": 34
        },
        "outputId": "5b19eae9-82d3-4ca3-fbb1-5ddcccade3d5"
      },
      "cell_type": "code",
      "source": [
        "sum([1,2])"
      ],
      "execution_count": 137,
      "outputs": [
        {
          "output_type": "execute_result",
          "data": {
            "text/plain": [
              "3"
            ]
          },
          "metadata": {
            "tags": []
          },
          "execution_count": 137
        }
      ]
    },
    {
      "metadata": {
        "id": "0xoDdDJt_ozj",
        "colab_type": "code",
        "colab": {}
      },
      "cell_type": "code",
      "source": [
        ""
      ],
      "execution_count": 0,
      "outputs": []
    }
  ]
}